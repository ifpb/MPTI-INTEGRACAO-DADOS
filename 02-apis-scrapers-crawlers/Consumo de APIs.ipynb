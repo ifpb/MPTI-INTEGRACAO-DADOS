{
 "cells": [
  {
   "cell_type": "markdown",
   "source": [
    "## Consumo de APIS\n",
    "Neste notebook são demonstrados alguns exemplos de consumo de APIs, web scrapping e web crawling."
   ],
   "metadata": {
    "collapsed": false
   }
  },
  {
   "cell_type": "markdown",
   "source": [
    "# Apis"
   ],
   "metadata": {
    "collapsed": false
   }
  },
  {
   "cell_type": "markdown",
   "source": [
    "## Consumindo dados da API WebSearch (https://usearch.com/)"
   ],
   "metadata": {
    "collapsed": false
   }
  },
  {
   "cell_type": "code",
   "execution_count": 1,
   "outputs": [],
   "source": [
    "url = \"https://contextualwebsearch-websearch-v1.p.rapidapi.com/api\"\n",
    "\n",
    "headers = {\n",
    "    \"X-RapidAPI-Key\": \"d9498e6ecemsh5a0f0696a2e4f34p1e3c67jsn864507258ff2\",\n",
    "    \"X-RapidAPI-Host\": \"contextualwebsearch-websearch-v1.p.rapidapi.com\"\n",
    "}"
   ],
   "metadata": {
    "collapsed": false
   }
  },
  {
   "cell_type": "markdown",
   "source": [
    "### Busca por notícias"
   ],
   "metadata": {
    "collapsed": false
   }
  },
  {
   "cell_type": "code",
   "execution_count": 4,
   "outputs": [
    {
     "data": {
      "text/plain": "                    id                                              title  \\\n0  8194116594448351965  Sloppy racing could make it tough for NASCAR r...   \n1  1568810398042317435  Joann Villeneuve interview: You still feel the...   \n2  7475407815851497300  Porsche Won't Join Formula 1 Because Nobody Wa...   \n3  9005122571698493188  Helmut Marko reveals WHY Max Verstappen snubbe...   \n4  5995325416804605113  This 2004 Lotus Esprit V8 Final Edition Is Rea...   \n5   836938286257399931                   All-time iconic Formula 1 quotes   \n6  5911617185235270906  McLaren announces departure of James Key, sign...   \n7  3027579591108336677  Multi-club ownership damages integrity of foot...   \n8  4748986049343252049   McLaren part company with technical director Key   \n9  5044511937772475796  Lewis Hamilton takes break from early F1 seaso...   \n\n                                                 url  \\\n0  https://www.springfieldnewssun.com/nation-worl...   \n1  https://www.independent.co.uk/f1/villeneuve-pi...   \n2  https://jalopnik.com/porsche-wont-join-formula...   \n3  https://www.gpfans.com/en/f1-news/104110/helmu...   \n4  https://www.autoevolution.com/news/this-2004-l...   \n5  https://www.gpfans.com/en/f1-news/104111/all-t...   \n6  https://www.sportskeeda.com/f1/news-mclaren-an...   \n7  https://www.thecourier.co.uk/sport/4247863/mul...   \n8  https://www.channelnewsasia.com/sport/mclaren-...   \n9  https://www.the-sun.com/sport/7702211/hamilton...   \n\n                                         description  \\\n0  CHARLOTTE, N.C. (AP)  The NASCAR field this Su...   \n1  Exclusive: The story of Gilles Villeneuves des...   \n2  Porsche solely focused on buying an existing t...   \n3  Dr Helmut Marko has shone a light on Max Verst...   \n4  When you think of British cars, the first thin...   \n5  F1 has been graced with many iconic quotes thr...   \n6  McLaren have announced the departure of their ...   \n7  Football is vulnerable to Formula One-style te...   \n8  LONDON : McLaren announced the departure of te...   \n9  LEWIS HAMILTON took a break from Formula One t...   \n\n                                                body  \\\n0  seemed competitive until he was run off course...   \n1  Something went wrong. Please try again later\\n...   \n2  There is no hotter commodity in motorsport at ...   \n3  Grand Prix of Abu Dhabi 2023\\nAbout GPFans\\nGP...   \n4  23 Mar 2023, 16:22 UTC\\n By:\\nWhen you think o...   \n5  17:05\\n- Updated: 17:05\\nF1 has been graced wi...   \n6  McLaren have announced the departure of their ...   \n7  Email address\\nSign up\\nFootball is vulnerable...   \n8  Email\\nLinkedIn\\nLONDON :     McLaren announce...   \n9  Hamilton has endured a difficult start to his ...   \n\n                                             snippet keywords language  \\\n0  ... The NASCAR field this Sunday will be stack...                en   \n1  ... {{ /verifyErrors }} Amid the plethora of s...                en   \n2  ... hotter commodity in motorsport at the mome...                en   \n3  ... 2023 About GPFans GPFans is a multi-platfo...                en   \n4  ... separated from the engineering company, fo...                en   \n5  ... who pushed the limit and one of the best t...                en   \n6  Instead, it will be introducing a <b><b>Formul...                en   \n7  Football is vulnerable to <b>Formula</b> One-s...                en   \n8  ... announced the departure of technical direc...                en   \n9  LEWIS HAMILTON took a break from <b>Formula</b...                en   \n\n   isSafe        datePublished  \\\n0   False  2023-03-23T20:10:21   \n1    True  2023-03-23T17:50:30   \n2    True  2023-03-23T17:20:00   \n3    True  2023-03-23T17:01:00   \n4    True  2023-03-23T16:22:15   \n5    True  2023-03-23T16:05:00   \n6    True  2023-03-23T15:09:44   \n7    True  2023-03-23T15:02:53   \n8    True  2023-03-23T14:51:47   \n9    True  2023-03-23T14:34:33   \n\n                                            provider  \\\n0  {'name': 'springfieldnewssun', 'favIcon': '', ...   \n1  {'name': 'independent', 'favIcon': '', 'favIco...   \n2  {'name': 'jalopnik', 'favIcon': '', 'favIconBa...   \n3  {'name': 'gpfans', 'favIcon': '', 'favIconBase...   \n4  {'name': 'autoevolution', 'favIcon': '', 'favI...   \n5  {'name': 'gpfans', 'favIcon': '', 'favIconBase...   \n6  {'name': 'sportskeeda', 'favIcon': '', 'favIco...   \n7  {'name': 'thecourier', 'favIcon': '', 'favIcon...   \n8  {'name': 'channelnewsasia', 'favIcon': '', 'fa...   \n9  {'name': 'the-sun', 'favIcon': '', 'favIconBas...   \n\n                                               image  \n0  {'url': 'https://cloudfront-us-east-1.images.a...  \n1  {'url': 'https://static.independent.co.uk/2023...  \n2  {'url': 'https://i.kinja-img.com/gawker-media/...  \n3  {'url': 'https://sportsbase.io/images/gpfans/c...  \n4  {'url': 'https://s1.cdn.autoevolution.com/imag...  \n5  {'url': 'https://sportsbase.io/images/gpfans/c...  \n6  {'url': 'https://staticc.sportskeeda.com/edito...  \n7  {'url': 'https://wpcluster.dctdigital.com/wp-c...  \n8  {'url': 'https://onecms-res.cloudinary.com/ima...  \n9  {'url': 'https://www.the-sun.com/wp-content/up...  ",
      "text/html": "<div>\n<style scoped>\n    .dataframe tbody tr th:only-of-type {\n        vertical-align: middle;\n    }\n\n    .dataframe tbody tr th {\n        vertical-align: top;\n    }\n\n    .dataframe thead th {\n        text-align: right;\n    }\n</style>\n<table border=\"1\" class=\"dataframe\">\n  <thead>\n    <tr style=\"text-align: right;\">\n      <th></th>\n      <th>id</th>\n      <th>title</th>\n      <th>url</th>\n      <th>description</th>\n      <th>body</th>\n      <th>snippet</th>\n      <th>keywords</th>\n      <th>language</th>\n      <th>isSafe</th>\n      <th>datePublished</th>\n      <th>provider</th>\n      <th>image</th>\n    </tr>\n  </thead>\n  <tbody>\n    <tr>\n      <th>0</th>\n      <td>8194116594448351965</td>\n      <td>Sloppy racing could make it tough for NASCAR r...</td>\n      <td>https://www.springfieldnewssun.com/nation-worl...</td>\n      <td>CHARLOTTE, N.C. (AP)  The NASCAR field this Su...</td>\n      <td>seemed competitive until he was run off course...</td>\n      <td>... The NASCAR field this Sunday will be stack...</td>\n      <td></td>\n      <td>en</td>\n      <td>False</td>\n      <td>2023-03-23T20:10:21</td>\n      <td>{'name': 'springfieldnewssun', 'favIcon': '', ...</td>\n      <td>{'url': 'https://cloudfront-us-east-1.images.a...</td>\n    </tr>\n    <tr>\n      <th>1</th>\n      <td>1568810398042317435</td>\n      <td>Joann Villeneuve interview: You still feel the...</td>\n      <td>https://www.independent.co.uk/f1/villeneuve-pi...</td>\n      <td>Exclusive: The story of Gilles Villeneuves des...</td>\n      <td>Something went wrong. Please try again later\\n...</td>\n      <td>... {{ /verifyErrors }} Amid the plethora of s...</td>\n      <td></td>\n      <td>en</td>\n      <td>True</td>\n      <td>2023-03-23T17:50:30</td>\n      <td>{'name': 'independent', 'favIcon': '', 'favIco...</td>\n      <td>{'url': 'https://static.independent.co.uk/2023...</td>\n    </tr>\n    <tr>\n      <th>2</th>\n      <td>7475407815851497300</td>\n      <td>Porsche Won't Join Formula 1 Because Nobody Wa...</td>\n      <td>https://jalopnik.com/porsche-wont-join-formula...</td>\n      <td>Porsche solely focused on buying an existing t...</td>\n      <td>There is no hotter commodity in motorsport at ...</td>\n      <td>... hotter commodity in motorsport at the mome...</td>\n      <td></td>\n      <td>en</td>\n      <td>True</td>\n      <td>2023-03-23T17:20:00</td>\n      <td>{'name': 'jalopnik', 'favIcon': '', 'favIconBa...</td>\n      <td>{'url': 'https://i.kinja-img.com/gawker-media/...</td>\n    </tr>\n    <tr>\n      <th>3</th>\n      <td>9005122571698493188</td>\n      <td>Helmut Marko reveals WHY Max Verstappen snubbe...</td>\n      <td>https://www.gpfans.com/en/f1-news/104110/helmu...</td>\n      <td>Dr Helmut Marko has shone a light on Max Verst...</td>\n      <td>Grand Prix of Abu Dhabi 2023\\nAbout GPFans\\nGP...</td>\n      <td>... 2023 About GPFans GPFans is a multi-platfo...</td>\n      <td></td>\n      <td>en</td>\n      <td>True</td>\n      <td>2023-03-23T17:01:00</td>\n      <td>{'name': 'gpfans', 'favIcon': '', 'favIconBase...</td>\n      <td>{'url': 'https://sportsbase.io/images/gpfans/c...</td>\n    </tr>\n    <tr>\n      <th>4</th>\n      <td>5995325416804605113</td>\n      <td>This 2004 Lotus Esprit V8 Final Edition Is Rea...</td>\n      <td>https://www.autoevolution.com/news/this-2004-l...</td>\n      <td>When you think of British cars, the first thin...</td>\n      <td>23 Mar 2023, 16:22 UTC\\n By:\\nWhen you think o...</td>\n      <td>... separated from the engineering company, fo...</td>\n      <td></td>\n      <td>en</td>\n      <td>True</td>\n      <td>2023-03-23T16:22:15</td>\n      <td>{'name': 'autoevolution', 'favIcon': '', 'favI...</td>\n      <td>{'url': 'https://s1.cdn.autoevolution.com/imag...</td>\n    </tr>\n    <tr>\n      <th>5</th>\n      <td>836938286257399931</td>\n      <td>All-time iconic Formula 1 quotes</td>\n      <td>https://www.gpfans.com/en/f1-news/104111/all-t...</td>\n      <td>F1 has been graced with many iconic quotes thr...</td>\n      <td>17:05\\n- Updated: 17:05\\nF1 has been graced wi...</td>\n      <td>... who pushed the limit and one of the best t...</td>\n      <td></td>\n      <td>en</td>\n      <td>True</td>\n      <td>2023-03-23T16:05:00</td>\n      <td>{'name': 'gpfans', 'favIcon': '', 'favIconBase...</td>\n      <td>{'url': 'https://sportsbase.io/images/gpfans/c...</td>\n    </tr>\n    <tr>\n      <th>6</th>\n      <td>5911617185235270906</td>\n      <td>McLaren announces departure of James Key, sign...</td>\n      <td>https://www.sportskeeda.com/f1/news-mclaren-an...</td>\n      <td>McLaren have announced the departure of their ...</td>\n      <td>McLaren have announced the departure of their ...</td>\n      <td>Instead, it will be introducing a &lt;b&gt;&lt;b&gt;Formul...</td>\n      <td></td>\n      <td>en</td>\n      <td>True</td>\n      <td>2023-03-23T15:09:44</td>\n      <td>{'name': 'sportskeeda', 'favIcon': '', 'favIco...</td>\n      <td>{'url': 'https://staticc.sportskeeda.com/edito...</td>\n    </tr>\n    <tr>\n      <th>7</th>\n      <td>3027579591108336677</td>\n      <td>Multi-club ownership damages integrity of foot...</td>\n      <td>https://www.thecourier.co.uk/sport/4247863/mul...</td>\n      <td>Football is vulnerable to Formula One-style te...</td>\n      <td>Email address\\nSign up\\nFootball is vulnerable...</td>\n      <td>Football is vulnerable to &lt;b&gt;Formula&lt;/b&gt; One-s...</td>\n      <td></td>\n      <td>en</td>\n      <td>True</td>\n      <td>2023-03-23T15:02:53</td>\n      <td>{'name': 'thecourier', 'favIcon': '', 'favIcon...</td>\n      <td>{'url': 'https://wpcluster.dctdigital.com/wp-c...</td>\n    </tr>\n    <tr>\n      <th>8</th>\n      <td>4748986049343252049</td>\n      <td>McLaren part company with technical director Key</td>\n      <td>https://www.channelnewsasia.com/sport/mclaren-...</td>\n      <td>LONDON : McLaren announced the departure of te...</td>\n      <td>Email\\nLinkedIn\\nLONDON :     McLaren announce...</td>\n      <td>... announced the departure of technical direc...</td>\n      <td></td>\n      <td>en</td>\n      <td>True</td>\n      <td>2023-03-23T14:51:47</td>\n      <td>{'name': 'channelnewsasia', 'favIcon': '', 'fa...</td>\n      <td>{'url': 'https://onecms-res.cloudinary.com/ima...</td>\n    </tr>\n    <tr>\n      <th>9</th>\n      <td>5044511937772475796</td>\n      <td>Lewis Hamilton takes break from early F1 seaso...</td>\n      <td>https://www.the-sun.com/sport/7702211/hamilton...</td>\n      <td>LEWIS HAMILTON took a break from Formula One t...</td>\n      <td>Hamilton has endured a difficult start to his ...</td>\n      <td>LEWIS HAMILTON took a break from &lt;b&gt;Formula&lt;/b...</td>\n      <td></td>\n      <td>en</td>\n      <td>True</td>\n      <td>2023-03-23T14:34:33</td>\n      <td>{'name': 'the-sun', 'favIcon': '', 'favIconBas...</td>\n      <td>{'url': 'https://www.the-sun.com/wp-content/up...</td>\n    </tr>\n  </tbody>\n</table>\n</div>"
     },
     "execution_count": 4,
     "metadata": {},
     "output_type": "execute_result"
    }
   ],
   "source": [
    "import requests\n",
    "import pandas as pd\n",
    "\n",
    "palavra_chave = \"formula 1\"\n",
    "\n",
    "querystring = {\"q\":palavra_chave,\"pageNumber\":\"1\",\"pageSize\":\"10\",\"autoCorrect\":\"true\",\"fromPublishedDate\":\"null\",\"toPublishedDate\":\"null\"}\n",
    "\n",
    "response = requests.request(\"GET\", url + \"/search/NewsSearchAPI\", headers=headers, params=querystring)\n",
    "\n",
    "resultado = pd.DataFrame(response.json()['value'])\n",
    "resultado"
   ],
   "metadata": {
    "collapsed": false
   }
  },
  {
   "cell_type": "markdown",
   "source": [
    "### Busca por imagens"
   ],
   "metadata": {
    "collapsed": false
   }
  },
  {
   "cell_type": "code",
   "execution_count": 6,
   "outputs": [
    {
     "data": {
      "text/plain": "                                                 url  height  width  \\\n0  https://images.contactmusic.com/newsimages/lew...     330    330   \n1  https://d3cm515ijfiu6w.cloudfront.net/wp-conte...     768   1026   \n2  https://content.fortune.com/wp-content/uploads...     600   1200   \n3  https://upload.wikimedia.org/wikipedia/commons...    1200    800   \n4  https://d2z1w4aiblvrwu.cloudfront.net/ad/wtvq/...     562   1000   \n5  http://images.contactmusic.com/newsimages/lewi...     330    330   \n6  https://www.thesupercarblog.com/wp-content/upl...     600   1000   \n7  https://arenabalap.com/wp-content/uploads/2021...     520    780   \n8  https://starsbite.com/wp-content/uploads/2021/...     360    600   \n9  https://e0.365dm.com/23/03/1600x900/skysports-...     900   1600   \n\n                                           thumbnail  thumbnailHeight  \\\n0  https://rapidapi.usearch.com/api/thumbnail/get...              165   \n1  https://rapidapi.usearch.com/api/thumbnail/get...               47   \n2  https://rapidapi.usearch.com/api/thumbnail/get...               75   \n3  https://rapidapi.usearch.com/api/thumbnail/get...               75   \n4  https://rapidapi.usearch.com/api/thumbnail/get...              281   \n5  https://rapidapi.usearch.com/api/thumbnail/get...              184   \n6  https://rapidapi.usearch.com/api/thumbnail/get...              150   \n7  https://rapidapi.usearch.com/api/thumbnail/get...              194   \n8  https://rapidapi.usearch.com/api/thumbnail/get...               90   \n9  https://rapidapi.usearch.com/api/thumbnail/get...              168   \n\n   thumbnailWidth base64Encoding  \\\n0             165           None   \n1              64           None   \n2             150           None   \n3              50           None   \n4             500           None   \n5             184           None   \n6             250           None   \n7             292           None   \n8             150           None   \n9             298           None   \n\n                                                name  \\\n0                                                      \n1  Lewis Hamilton compares UK lockdown to animal ...   \n2                                                      \n3                                                      \n4                                                      \n5                                                      \n6                                                      \n7                                     Lewis Hamilton   \n8                                  Lewis Hamilton 01   \n9                                                      \n\n                                               title  \\\n0  Lewis Hamilton | Lewis Hamilton turned down To...   \n1  Lewis Hamilton puts preparation ahead of contr...   \n2  Lewis Hamilton | 2020 40 under 40 in Media and...   \n3                        Lewis Hamilton  Wikinavedek   \n4           Lewis Hamilton TV Commercials - iSpot.tv   \n5  Lewis Hamilton | Lewis Hamilton became a vegan...   \n6                                     Lewis Hamilton   \n7                    lewis-hamilton - arenabalap.com   \n8  Lewis Hamilton Bio, Facts, Career, Personal Li...   \n9  Lewis Hamilton: Christian Horner 'can't see' s...   \n\n                                            provider  \\\n0  {'name': 'contactmusic', 'favIcon': '', 'favIc...   \n1  {'name': 'd3cm515ijfiu6w', 'favIcon': '', 'fav...   \n2  {'name': 'fortune', 'favIcon': '', 'favIconBas...   \n3  {'name': 'wikimedia', 'favIcon': '', 'favIconB...   \n4  {'name': 'd2z1w4aiblvrwu', 'favIcon': '', 'fav...   \n5  {'name': 'contactmusic', 'favIcon': '', 'favIc...   \n6  {'name': 'thesupercarblog', 'favIcon': '', 'fa...   \n7  {'name': 'arenabalap', 'favIcon': '', 'favIcon...   \n8  {'name': 'starsbite', 'favIcon': '', 'favIconB...   \n9  {'name': '365dm', 'favIcon': '', 'favIconBase6...   \n\n                                   imageWebSearchUrl  \\\n0  https://usearch.com/search/Lewis%20Hamilton/im...   \n1  https://usearch.com/search/Lewis%20Hamilton/im...   \n2  https://usearch.com/search/Lewis%20Hamilton/im...   \n3  https://usearch.com/search/Lewis%20Hamilton/im...   \n4  https://usearch.com/search/Lewis%20Hamilton/im...   \n5  https://usearch.com/search/Lewis%20Hamilton/im...   \n6  https://usearch.com/search/Lewis%20Hamilton/im...   \n7  https://usearch.com/search/Lewis%20Hamilton/im...   \n8  https://usearch.com/search/Lewis%20Hamilton/im...   \n9  https://usearch.com/search/Lewis%20Hamilton/im...   \n\n                                          webpageUrl  \n0  https://www.contactmusic.com/lewis-hamilton/ne...  \n1  https://www.planetf1.com/news/lewis-hamilton-m...  \n2  https://fortune.com/40-under-40/2020/lewis-ham...  \n3       https://sl.wikiquote.org/wiki/Lewis_Hamilton  \n4  https://www.ispot.tv/topic/athlete/TK/lewis-ha...  \n5  http://www.contactmusic.net/lewis-hamilton/new...  \n6  https://www.thesupercarblog.com/tag/lewis-hami...  \n7  https://arenabalap.com/blog/2021/07/28/lewis-h...  \n8              https://starsbite.com/lewis-hamilton/  \n9  https://www.skysports.com/f1/news/12433/128406...  ",
      "text/html": "<div>\n<style scoped>\n    .dataframe tbody tr th:only-of-type {\n        vertical-align: middle;\n    }\n\n    .dataframe tbody tr th {\n        vertical-align: top;\n    }\n\n    .dataframe thead th {\n        text-align: right;\n    }\n</style>\n<table border=\"1\" class=\"dataframe\">\n  <thead>\n    <tr style=\"text-align: right;\">\n      <th></th>\n      <th>url</th>\n      <th>height</th>\n      <th>width</th>\n      <th>thumbnail</th>\n      <th>thumbnailHeight</th>\n      <th>thumbnailWidth</th>\n      <th>base64Encoding</th>\n      <th>name</th>\n      <th>title</th>\n      <th>provider</th>\n      <th>imageWebSearchUrl</th>\n      <th>webpageUrl</th>\n    </tr>\n  </thead>\n  <tbody>\n    <tr>\n      <th>0</th>\n      <td>https://images.contactmusic.com/newsimages/lew...</td>\n      <td>330</td>\n      <td>330</td>\n      <td>https://rapidapi.usearch.com/api/thumbnail/get...</td>\n      <td>165</td>\n      <td>165</td>\n      <td>None</td>\n      <td></td>\n      <td>Lewis Hamilton | Lewis Hamilton turned down To...</td>\n      <td>{'name': 'contactmusic', 'favIcon': '', 'favIc...</td>\n      <td>https://usearch.com/search/Lewis%20Hamilton/im...</td>\n      <td>https://www.contactmusic.com/lewis-hamilton/ne...</td>\n    </tr>\n    <tr>\n      <th>1</th>\n      <td>https://d3cm515ijfiu6w.cloudfront.net/wp-conte...</td>\n      <td>768</td>\n      <td>1026</td>\n      <td>https://rapidapi.usearch.com/api/thumbnail/get...</td>\n      <td>47</td>\n      <td>64</td>\n      <td>None</td>\n      <td>Lewis Hamilton compares UK lockdown to animal ...</td>\n      <td>Lewis Hamilton puts preparation ahead of contr...</td>\n      <td>{'name': 'd3cm515ijfiu6w', 'favIcon': '', 'fav...</td>\n      <td>https://usearch.com/search/Lewis%20Hamilton/im...</td>\n      <td>https://www.planetf1.com/news/lewis-hamilton-m...</td>\n    </tr>\n    <tr>\n      <th>2</th>\n      <td>https://content.fortune.com/wp-content/uploads...</td>\n      <td>600</td>\n      <td>1200</td>\n      <td>https://rapidapi.usearch.com/api/thumbnail/get...</td>\n      <td>75</td>\n      <td>150</td>\n      <td>None</td>\n      <td></td>\n      <td>Lewis Hamilton | 2020 40 under 40 in Media and...</td>\n      <td>{'name': 'fortune', 'favIcon': '', 'favIconBas...</td>\n      <td>https://usearch.com/search/Lewis%20Hamilton/im...</td>\n      <td>https://fortune.com/40-under-40/2020/lewis-ham...</td>\n    </tr>\n    <tr>\n      <th>3</th>\n      <td>https://upload.wikimedia.org/wikipedia/commons...</td>\n      <td>1200</td>\n      <td>800</td>\n      <td>https://rapidapi.usearch.com/api/thumbnail/get...</td>\n      <td>75</td>\n      <td>50</td>\n      <td>None</td>\n      <td></td>\n      <td>Lewis Hamilton  Wikinavedek</td>\n      <td>{'name': 'wikimedia', 'favIcon': '', 'favIconB...</td>\n      <td>https://usearch.com/search/Lewis%20Hamilton/im...</td>\n      <td>https://sl.wikiquote.org/wiki/Lewis_Hamilton</td>\n    </tr>\n    <tr>\n      <th>4</th>\n      <td>https://d2z1w4aiblvrwu.cloudfront.net/ad/wtvq/...</td>\n      <td>562</td>\n      <td>1000</td>\n      <td>https://rapidapi.usearch.com/api/thumbnail/get...</td>\n      <td>281</td>\n      <td>500</td>\n      <td>None</td>\n      <td></td>\n      <td>Lewis Hamilton TV Commercials - iSpot.tv</td>\n      <td>{'name': 'd2z1w4aiblvrwu', 'favIcon': '', 'fav...</td>\n      <td>https://usearch.com/search/Lewis%20Hamilton/im...</td>\n      <td>https://www.ispot.tv/topic/athlete/TK/lewis-ha...</td>\n    </tr>\n    <tr>\n      <th>5</th>\n      <td>http://images.contactmusic.com/newsimages/lewi...</td>\n      <td>330</td>\n      <td>330</td>\n      <td>https://rapidapi.usearch.com/api/thumbnail/get...</td>\n      <td>184</td>\n      <td>184</td>\n      <td>None</td>\n      <td></td>\n      <td>Lewis Hamilton | Lewis Hamilton became a vegan...</td>\n      <td>{'name': 'contactmusic', 'favIcon': '', 'favIc...</td>\n      <td>https://usearch.com/search/Lewis%20Hamilton/im...</td>\n      <td>http://www.contactmusic.net/lewis-hamilton/new...</td>\n    </tr>\n    <tr>\n      <th>6</th>\n      <td>https://www.thesupercarblog.com/wp-content/upl...</td>\n      <td>600</td>\n      <td>1000</td>\n      <td>https://rapidapi.usearch.com/api/thumbnail/get...</td>\n      <td>150</td>\n      <td>250</td>\n      <td>None</td>\n      <td></td>\n      <td>Lewis Hamilton</td>\n      <td>{'name': 'thesupercarblog', 'favIcon': '', 'fa...</td>\n      <td>https://usearch.com/search/Lewis%20Hamilton/im...</td>\n      <td>https://www.thesupercarblog.com/tag/lewis-hami...</td>\n    </tr>\n    <tr>\n      <th>7</th>\n      <td>https://arenabalap.com/wp-content/uploads/2021...</td>\n      <td>520</td>\n      <td>780</td>\n      <td>https://rapidapi.usearch.com/api/thumbnail/get...</td>\n      <td>194</td>\n      <td>292</td>\n      <td>None</td>\n      <td>Lewis Hamilton</td>\n      <td>lewis-hamilton - arenabalap.com</td>\n      <td>{'name': 'arenabalap', 'favIcon': '', 'favIcon...</td>\n      <td>https://usearch.com/search/Lewis%20Hamilton/im...</td>\n      <td>https://arenabalap.com/blog/2021/07/28/lewis-h...</td>\n    </tr>\n    <tr>\n      <th>8</th>\n      <td>https://starsbite.com/wp-content/uploads/2021/...</td>\n      <td>360</td>\n      <td>600</td>\n      <td>https://rapidapi.usearch.com/api/thumbnail/get...</td>\n      <td>90</td>\n      <td>150</td>\n      <td>None</td>\n      <td>Lewis Hamilton 01</td>\n      <td>Lewis Hamilton Bio, Facts, Career, Personal Li...</td>\n      <td>{'name': 'starsbite', 'favIcon': '', 'favIconB...</td>\n      <td>https://usearch.com/search/Lewis%20Hamilton/im...</td>\n      <td>https://starsbite.com/lewis-hamilton/</td>\n    </tr>\n    <tr>\n      <th>9</th>\n      <td>https://e0.365dm.com/23/03/1600x900/skysports-...</td>\n      <td>900</td>\n      <td>1600</td>\n      <td>https://rapidapi.usearch.com/api/thumbnail/get...</td>\n      <td>168</td>\n      <td>298</td>\n      <td>None</td>\n      <td></td>\n      <td>Lewis Hamilton: Christian Horner 'can't see' s...</td>\n      <td>{'name': '365dm', 'favIcon': '', 'favIconBase6...</td>\n      <td>https://usearch.com/search/Lewis%20Hamilton/im...</td>\n      <td>https://www.skysports.com/f1/news/12433/128406...</td>\n    </tr>\n  </tbody>\n</table>\n</div>"
     },
     "execution_count": 6,
     "metadata": {},
     "output_type": "execute_result"
    }
   ],
   "source": [
    "from IPython.display import Image\n",
    "\n",
    "palavra_chave = \"Lewis Hamilton\"\n",
    "\n",
    "querystring = {\"q\": palavra_chave,\"pageNumber\":\"1\",\"pageSize\":\"10\",\"autoCorrect\":\"true\"}\n",
    "\n",
    "response = requests.request(\"GET\", url + \"/Search/ImageSearchAPI\", headers=headers, params=querystring)\n",
    "\n",
    "resultado = pd.DataFrame(response.json()['value'])\n",
    "resultado"
   ],
   "metadata": {
    "collapsed": false
   }
  },
  {
   "cell_type": "code",
   "execution_count": 8,
   "outputs": [
    {
     "data": {
      "text/html": "<img src=\"https://d3cm515ijfiu6w.cloudfront.net/wp-content/uploads/2020/02/20154740/Lewis-Hamilton-press-conference.jpg\"/>",
      "text/plain": "<IPython.core.display.Image object>"
     },
     "execution_count": 8,
     "metadata": {},
     "output_type": "execute_result"
    }
   ],
   "source": [
    "Image(url=resultado.url[1])"
   ],
   "metadata": {
    "collapsed": false
   }
  },
  {
   "cell_type": "markdown",
   "source": [
    "### Spell Checking"
   ],
   "metadata": {
    "collapsed": false
   }
  },
  {
   "cell_type": "code",
   "execution_count": 97,
   "outputs": [
    {
     "name": "stdout",
     "output_type": "stream",
     "text": [
      "taylor swift\n"
     ]
    }
   ],
   "source": [
    "querystring = {\"text\": \"teylor swiift\"}\n",
    "\n",
    "response = requests.request(\"GET\", url+\"/spelling/SpellCheck\", headers=headers, params=querystring)\n",
    "\n",
    "print(response.text)"
   ],
   "metadata": {
    "collapsed": false
   }
  },
  {
   "cell_type": "markdown",
   "source": [
    "# Scrapers"
   ],
   "metadata": {
    "collapsed": false
   }
  },
  {
   "cell_type": "markdown",
   "source": [
    "## Usando a Biblioteca BeautifulSoup\n",
    "\n",
    "### Pegando informações sobre os últimos editais publicados na página do IFPB"
   ],
   "metadata": {
    "collapsed": false
   }
  },
  {
   "cell_type": "code",
   "execution_count": 105,
   "outputs": [
    {
     "name": "stdout",
     "output_type": "stream",
     "text": [
      "Requirement already satisfied: beautifulsoup4 in /Users/diegopessoa/opt/anaconda3/lib/python3.9/site-packages (4.11.1)\r\n",
      "Requirement already satisfied: soupsieve>1.2 in /Users/diegopessoa/opt/anaconda3/lib/python3.9/site-packages (from beautifulsoup4) (2.3.1)\r\n"
     ]
    }
   ],
   "source": [
    "!pip install beautifulsoup4"
   ],
   "metadata": {
    "collapsed": false
   }
  },
  {
   "cell_type": "code",
   "execution_count": 9,
   "outputs": [
    {
     "name": "stdout",
     "output_type": "stream",
     "text": [
      "Últimos editais do IFPB — Instituto Federal da Paraiba IFPB\n"
     ]
    },
    {
     "data": {
      "text/plain": "                                          Edital  \\\n0                       Edital nº 04/2023 - DGEP   \n1                     Edital nº 05/2023 - PROEXC   \n2                     Edital nº 04/2023 - PROEXC   \n3                     Edital nº 03/2023 - PROEXC   \n4  Edital 40/2023 - Professor Substituto do IFPB   \n\n                                                                                                                                                                                   Descricao  \\\n0                                                                                                                                   Oferta vaga de remoção interna para João Pessoa e Picuí.   \n1                                                                                                                  Programa Institucional de Apoio a Eventos de Extensão e Cultura: PROEVEXC   \n2                                                                                                           Programa Institucional de Apoio e Fortalecimento da Agricultura Familiar - PROAF   \n3                                                                                                                    Programa Institucional de Bolsas de Extensão e Cultura: PROBEXC PROJETO   \n4  Processo seletivo simplificado, com vistas à contratação de professor substituto, por tempo determinado, para atender às necessidades de excepcional interesse público dos campi do IFPB.   \n\n                                                                                                                Link  \n0                                         https://www.ifpb.edu.br/servidor/editais/Ano%202023/edital-no-04-2023-dgep  \n1                                  https://www.ifpb.edu.br/proexc/editais/extensao/ano-2023/edital-no-05-2023-proexc  \n2                                  https://www.ifpb.edu.br/proexc/editais/extensao/ano-2023/edital-no-04-2023-proexc  \n3                                  https://www.ifpb.edu.br/proexc/editais/extensao/ano-2023/edital-no-03-2023-proexc  \n4  https://www.ifpb.edu.br/concursopublico/professor-substituto/vigentes/edital-40-2023-professor-substituto-do-ifpb  ",
      "text/html": "<div>\n<style scoped>\n    .dataframe tbody tr th:only-of-type {\n        vertical-align: middle;\n    }\n\n    .dataframe tbody tr th {\n        vertical-align: top;\n    }\n\n    .dataframe thead th {\n        text-align: right;\n    }\n</style>\n<table border=\"1\" class=\"dataframe\">\n  <thead>\n    <tr style=\"text-align: right;\">\n      <th></th>\n      <th>Edital</th>\n      <th>Descricao</th>\n      <th>Link</th>\n    </tr>\n  </thead>\n  <tbody>\n    <tr>\n      <th>0</th>\n      <td>Edital nº 04/2023 - DGEP</td>\n      <td>Oferta vaga de remoção interna para João Pessoa e Picuí.</td>\n      <td>https://www.ifpb.edu.br/servidor/editais/Ano%202023/edital-no-04-2023-dgep</td>\n    </tr>\n    <tr>\n      <th>1</th>\n      <td>Edital nº 05/2023 - PROEXC</td>\n      <td>Programa Institucional de Apoio a Eventos de Extensão e Cultura: PROEVEXC</td>\n      <td>https://www.ifpb.edu.br/proexc/editais/extensao/ano-2023/edital-no-05-2023-proexc</td>\n    </tr>\n    <tr>\n      <th>2</th>\n      <td>Edital nº 04/2023 - PROEXC</td>\n      <td>Programa Institucional de Apoio e Fortalecimento da Agricultura Familiar - PROAF</td>\n      <td>https://www.ifpb.edu.br/proexc/editais/extensao/ano-2023/edital-no-04-2023-proexc</td>\n    </tr>\n    <tr>\n      <th>3</th>\n      <td>Edital nº 03/2023 - PROEXC</td>\n      <td>Programa Institucional de Bolsas de Extensão e Cultura: PROBEXC PROJETO</td>\n      <td>https://www.ifpb.edu.br/proexc/editais/extensao/ano-2023/edital-no-03-2023-proexc</td>\n    </tr>\n    <tr>\n      <th>4</th>\n      <td>Edital 40/2023 - Professor Substituto do IFPB</td>\n      <td>Processo seletivo simplificado, com vistas à contratação de professor substituto, por tempo determinado, para atender às necessidades de excepcional interesse público dos campi do IFPB.</td>\n      <td>https://www.ifpb.edu.br/concursopublico/professor-substituto/vigentes/edital-40-2023-professor-substituto-do-ifpb</td>\n    </tr>\n  </tbody>\n</table>\n</div>"
     },
     "execution_count": 9,
     "metadata": {},
     "output_type": "execute_result"
    }
   ],
   "source": [
    "from bs4 import BeautifulSoup\n",
    "url = \"https://www.ifpb.edu.br\"\n",
    "response = requests.get(url)\n",
    "\n",
    "soup = BeautifulSoup(response.content, 'html.parser')\n",
    "title = soup.title.string\n",
    "print(\"Últimos editais do\", title)\n",
    "\n",
    "df_editais = pd.DataFrame(columns={'Edital': [], 'Descricao': [], 'Link': []})\n",
    "pd.set_option('display.max_colwidth', None)\n",
    "\n",
    "editais = soup.find_all('div', class_='colecao-editais')[0].find_all('h2')\n",
    "for i, edital in enumerate(editais):\n",
    "    titulo = edital.text.replace(\"\\n\", \"\")\n",
    "    descricao = edital.find_next('p', class_='description').text.replace(\"\\n\", \"\")\n",
    "    link = edital.a['href']\n",
    "    df_editais.loc[i] = [titulo, descricao, link]\n",
    "\n",
    "df_editais"
   ],
   "metadata": {
    "collapsed": false
   }
  },
  {
   "cell_type": "markdown",
   "source": [
    "# Crawlers\n",
    "## Usando a Biblioteca Scrapy\n",
    "\n",
    "Obtendo dados do site [https://ccsakura.fandom.com/wiki/Clow_Cards](https://ccsakura.fandom.com/wiki/Clow_Cards) e sub-páginas usando a biblioteca [Scrapy](https://scrapy.org/)"
   ],
   "metadata": {
    "collapsed": false
   }
  },
  {
   "cell_type": "code",
   "execution_count": 11,
   "outputs": [
    {
     "name": "stdout",
     "output_type": "stream",
     "text": [
      "/Users/diegopessoa/projects/ifpb/banco-de-dados/04-apis-scrapers-crawlers/sakura\n"
     ]
    }
   ],
   "source": [
    "%cd \"sakura\""
   ],
   "metadata": {
    "collapsed": false
   }
  },
  {
   "cell_type": "code",
   "execution_count": 12,
   "outputs": [
    {
     "data": {
      "text/plain": "'/Users/diegopessoa/projects/ifpb/banco-de-dados/04-apis-scrapers-crawlers/sakura'"
     },
     "execution_count": 12,
     "metadata": {},
     "output_type": "execute_result"
    }
   ],
   "source": [
    "pwd"
   ],
   "metadata": {
    "collapsed": false
   }
  },
  {
   "cell_type": "code",
   "execution_count": 13,
   "outputs": [
    {
     "name": "stdout",
     "output_type": "stream",
     "text": [
      "/Users/diegopessoa/projects/ifpb/banco-de-dados/04-apis-scrapers-crawlers/sakura/crawlers/loaders.py:13: ScrapyDeprecationWarning: scrapy.loader.processors.TakeFirst is deprecated, instantiate itemloaders.processors.TakeFirst instead.\r\n",
      "  default_output_processor = TakeFirst()\r\n",
      "2023-03-23 21:03:42 [scrapy.utils.log] INFO: Scrapy 2.6.2 started (bot: crawlers)\r\n",
      "2023-03-23 21:03:42 [scrapy.utils.log] INFO: Versions: lxml 4.9.1.0, libxml2 2.9.14, cssselect 1.1.0, parsel 1.6.0, w3lib 1.21.0, Twisted 22.2.0, Python 3.9.13 (main, Aug 25 2022, 18:29:29) - [Clang 12.0.0 ], pyOpenSSL 22.0.0 (OpenSSL 1.1.1q  5 Jul 2022), cryptography 37.0.1, Platform macOS-10.16-x86_64-i386-64bit\r\n",
      "2023-03-23 21:03:42 [scrapy.crawler] INFO: Overridden settings:\r\n",
      "{'AUTOTHROTTLE_ENABLED': True,\r\n",
      " 'BOT_NAME': 'crawlers',\r\n",
      " 'CONCURRENT_REQUESTS': 32,\r\n",
      " 'CONCURRENT_REQUESTS_PER_DOMAIN': 16,\r\n",
      " 'CONCURRENT_REQUESTS_PER_IP': 16,\r\n",
      " 'COOKIES_ENABLED': False,\r\n",
      " 'DOWNLOAD_DELAY': 3,\r\n",
      " 'NEWSPIDER_MODULE': 'crawlers.spiders',\r\n",
      " 'ROBOTSTXT_OBEY': True,\r\n",
      " 'SPIDER_MODULES': ['crawlers.spiders'],\r\n",
      " 'USER_AGENT': 'The CardCaptor sakura'}\r\n",
      "2023-03-23 21:03:42 [scrapy.utils.log] DEBUG: Using reactor: twisted.internet.selectreactor.SelectReactor\r\n",
      "2023-03-23 21:03:42 [scrapy.extensions.telnet] INFO: Telnet Password: b72aa41ff99e71f5\r\n",
      "2023-03-23 21:03:42 [scrapy.middleware] INFO: Enabled extensions:\r\n",
      "['scrapy.extensions.corestats.CoreStats',\r\n",
      " 'scrapy.extensions.telnet.TelnetConsole',\r\n",
      " 'scrapy.extensions.memusage.MemoryUsage',\r\n",
      " 'scrapy.extensions.feedexport.FeedExporter',\r\n",
      " 'scrapy.extensions.logstats.LogStats',\r\n",
      " 'scrapy.extensions.throttle.AutoThrottle']\r\n",
      "2023-03-23 21:03:42 [scrapy.middleware] INFO: Enabled downloader middlewares:\r\n",
      "['scrapy.downloadermiddlewares.robotstxt.RobotsTxtMiddleware',\r\n",
      " 'scrapy.downloadermiddlewares.httpauth.HttpAuthMiddleware',\r\n",
      " 'scrapy.downloadermiddlewares.downloadtimeout.DownloadTimeoutMiddleware',\r\n",
      " 'scrapy.downloadermiddlewares.defaultheaders.DefaultHeadersMiddleware',\r\n",
      " 'scrapy.downloadermiddlewares.useragent.UserAgentMiddleware',\r\n",
      " 'scrapy.downloadermiddlewares.retry.RetryMiddleware',\r\n",
      " 'scrapy.downloadermiddlewares.redirect.MetaRefreshMiddleware',\r\n",
      " 'scrapy.downloadermiddlewares.httpcompression.HttpCompressionMiddleware',\r\n",
      " 'scrapy.downloadermiddlewares.redirect.RedirectMiddleware',\r\n",
      " 'scrapy.downloadermiddlewares.httpproxy.HttpProxyMiddleware',\r\n",
      " 'scrapy.downloadermiddlewares.stats.DownloaderStats']\r\n",
      "2023-03-23 21:03:42 [scrapy.middleware] INFO: Enabled spider middlewares:\r\n",
      "['scrapy.spidermiddlewares.httperror.HttpErrorMiddleware',\r\n",
      " 'scrapy.spidermiddlewares.offsite.OffsiteMiddleware',\r\n",
      " 'scrapy.spidermiddlewares.referer.RefererMiddleware',\r\n",
      " 'scrapy.spidermiddlewares.urllength.UrlLengthMiddleware',\r\n",
      " 'scrapy.spidermiddlewares.depth.DepthMiddleware']\r\n",
      "2023-03-23 21:03:42 [scrapy.middleware] INFO: Enabled item pipelines:\r\n",
      "[]\r\n",
      "2023-03-23 21:03:42 [scrapy.core.engine] INFO: Spider opened\r\n",
      "2023-03-23 21:03:42 [scrapy.extensions.logstats] INFO: Crawled 0 pages (at 0 pages/min), scraped 0 items (at 0 items/min)\r\n",
      "2023-03-23 21:03:42 [scrapy.extensions.telnet] INFO: Telnet console listening on 127.0.0.1:6023\r\n",
      "2023-03-23 21:03:45 [scrapy.core.engine] DEBUG: Crawled (200) <GET https://ccsakura.fandom.com/robots.txt> (referer: None)\r\n",
      "2023-03-23 21:03:46 [scrapy.core.engine] DEBUG: Crawled (200) <GET https://ccsakura.fandom.com/wiki/Clow_Cards> (referer: None)\r\n",
      "2023-03-23 21:03:46 [scrapy.dupefilters] DEBUG: Filtered duplicate request: <GET https://ccsakura.fandom.com/wiki/The_Windy> - no more duplicates will be shown (see DUPEFILTER_DEBUG to show all duplicates)\r\n",
      "2023-03-23 21:03:52 [scrapy.core.engine] DEBUG: Crawled (200) <GET https://ccsakura.fandom.com/wiki/The_Arrow> (referer: https://ccsakura.fandom.com/wiki/Clow_Cards)\r\n",
      "2023-03-23 21:03:52 [scrapy.core.scraper] DEBUG: Scraped from <200 https://ccsakura.fandom.com/wiki/The_Arrow>\r\n",
      "{'card_type': 'Clow Card'}\r\n",
      "2023-03-23 21:03:55 [scrapy.core.engine] DEBUG: Crawled (200) <GET https://ccsakura.fandom.com/wiki/The_Wood> (referer: https://ccsakura.fandom.com/wiki/Clow_Cards)\r\n",
      "2023-03-23 21:03:55 [scrapy.core.scraper] DEBUG: Scraped from <200 https://ccsakura.fandom.com/wiki/The_Wood>\r\n",
      "{'card_type': 'Clow Card'}\r\n",
      "2023-03-23 21:03:59 [scrapy.core.engine] DEBUG: Crawled (200) <GET https://ccsakura.fandom.com/wiki/The_Windy> (referer: https://ccsakura.fandom.com/wiki/Clow_Cards)\r\n",
      "2023-03-23 21:03:59 [scrapy.core.scraper] DEBUG: Scraped from <200 https://ccsakura.fandom.com/wiki/The_Windy>\r\n",
      "{'card_type': 'Clow Card'}\r\n",
      "2023-03-23 21:04:03 [scrapy.core.engine] DEBUG: Crawled (200) <GET https://ccsakura.fandom.com/wiki/The_Wave> (referer: https://ccsakura.fandom.com/wiki/Clow_Cards)\r\n",
      "2023-03-23 21:04:03 [scrapy.core.scraper] DEBUG: Scraped from <200 https://ccsakura.fandom.com/wiki/The_Wave>\r\n",
      "{'card_type': 'Clow Card'}\r\n",
      "2023-03-23 21:04:07 [scrapy.core.engine] DEBUG: Crawled (200) <GET https://ccsakura.fandom.com/wiki/The_Watery> (referer: https://ccsakura.fandom.com/wiki/Clow_Cards)\r\n",
      "2023-03-23 21:04:08 [scrapy.core.scraper] DEBUG: Scraped from <200 https://ccsakura.fandom.com/wiki/The_Watery>\r\n",
      "{'card_type': 'Clow Card'}\r\n",
      "2023-03-23 21:04:11 [scrapy.core.engine] DEBUG: Crawled (200) <GET https://ccsakura.fandom.com/wiki/The_Voice> (referer: https://ccsakura.fandom.com/wiki/Clow_Cards)\r\n",
      "2023-03-23 21:04:11 [scrapy.core.scraper] DEBUG: Scraped from <200 https://ccsakura.fandom.com/wiki/The_Voice>\r\n",
      "{'card_type': 'Clow Card'}\r\n",
      "2023-03-23 21:04:15 [scrapy.core.engine] DEBUG: Crawled (200) <GET https://ccsakura.fandom.com/wiki/The_Twin> (referer: https://ccsakura.fandom.com/wiki/Clow_Cards)\r\n",
      "2023-03-23 21:04:15 [scrapy.core.scraper] DEBUG: Scraped from <200 https://ccsakura.fandom.com/wiki/The_Twin>\r\n",
      "{'card_type': 'Clow Card'}\r\n",
      "2023-03-23 21:04:19 [scrapy.core.engine] DEBUG: Crawled (200) <GET https://ccsakura.fandom.com/wiki/The_Time> (referer: https://ccsakura.fandom.com/wiki/Clow_Cards)\r\n",
      "2023-03-23 21:04:19 [scrapy.core.scraper] DEBUG: Scraped from <200 https://ccsakura.fandom.com/wiki/The_Time>\r\n",
      "{'card_type': 'Clow Card'}\r\n",
      "2023-03-23 21:04:23 [scrapy.core.engine] DEBUG: Crawled (200) <GET https://ccsakura.fandom.com/wiki/The_Thunder> (referer: https://ccsakura.fandom.com/wiki/Clow_Cards)\r\n",
      "2023-03-23 21:04:24 [scrapy.core.scraper] DEBUG: Scraped from <200 https://ccsakura.fandom.com/wiki/The_Thunder>\r\n",
      "{'card_type': 'Clow Card'}\r\n",
      "2023-03-23 21:04:28 [scrapy.core.engine] DEBUG: Crawled (200) <GET https://ccsakura.fandom.com/wiki/The_Through> (referer: https://ccsakura.fandom.com/wiki/Clow_Cards)\r\n",
      "2023-03-23 21:04:28 [scrapy.core.scraper] DEBUG: Scraped from <200 https://ccsakura.fandom.com/wiki/The_Through>\r\n",
      "{'card_type': 'Clow Card'}\r\n",
      "2023-03-23 21:04:32 [scrapy.core.engine] DEBUG: Crawled (200) <GET https://ccsakura.fandom.com/wiki/The_Sword> (referer: https://ccsakura.fandom.com/wiki/Clow_Cards)\r\n",
      "2023-03-23 21:04:32 [scrapy.core.scraper] DEBUG: Scraped from <200 https://ccsakura.fandom.com/wiki/The_Sword>\r\n",
      "{'card_type': 'Clow Card'}\r\n",
      "2023-03-23 21:04:35 [scrapy.core.engine] DEBUG: Crawled (200) <GET https://ccsakura.fandom.com/wiki/The_Sweet> (referer: https://ccsakura.fandom.com/wiki/Clow_Cards)\r\n",
      "2023-03-23 21:04:35 [scrapy.core.scraper] DEBUG: Scraped from <200 https://ccsakura.fandom.com/wiki/The_Sweet>\r\n",
      "{'card_type': 'Clow Card'}\r\n",
      "2023-03-23 21:04:40 [scrapy.core.engine] DEBUG: Crawled (200) <GET https://ccsakura.fandom.com/wiki/The_Storm> (referer: https://ccsakura.fandom.com/wiki/Clow_Cards)\r\n",
      "2023-03-23 21:04:40 [scrapy.core.scraper] DEBUG: Scraped from <200 https://ccsakura.fandom.com/wiki/The_Storm>\r\n",
      "{'card_type': 'Clow Card'}\r\n",
      "2023-03-23 21:04:42 [scrapy.extensions.logstats] INFO: Crawled 15 pages (at 15 pages/min), scraped 13 items (at 13 items/min)\r\n",
      "2023-03-23 21:04:44 [scrapy.core.engine] DEBUG: Crawled (200) <GET https://ccsakura.fandom.com/wiki/The_Song> (referer: https://ccsakura.fandom.com/wiki/Clow_Cards)\r\n",
      "2023-03-23 21:04:44 [scrapy.core.scraper] DEBUG: Scraped from <200 https://ccsakura.fandom.com/wiki/The_Song>\r\n",
      "{'card_type': 'Clow Card'}\r\n",
      "2023-03-23 21:04:47 [scrapy.core.engine] DEBUG: Crawled (200) <GET https://ccsakura.fandom.com/wiki/The_Snow> (referer: https://ccsakura.fandom.com/wiki/Clow_Cards)\r\n",
      "2023-03-23 21:04:47 [scrapy.core.scraper] DEBUG: Scraped from <200 https://ccsakura.fandom.com/wiki/The_Snow>\r\n",
      "{'card_type': 'Clow Card'}\r\n",
      "2023-03-23 21:04:51 [scrapy.core.engine] DEBUG: Crawled (200) <GET https://ccsakura.fandom.com/wiki/The_Sleep> (referer: https://ccsakura.fandom.com/wiki/Clow_Cards)\r\n",
      "2023-03-23 21:04:51 [scrapy.core.scraper] DEBUG: Scraped from <200 https://ccsakura.fandom.com/wiki/The_Sleep>\r\n",
      "{'card_type': 'Clow Card'}\r\n",
      "2023-03-23 21:04:55 [scrapy.core.engine] DEBUG: Crawled (200) <GET https://ccsakura.fandom.com/wiki/The_Silent> (referer: https://ccsakura.fandom.com/wiki/Clow_Cards)\r\n",
      "2023-03-23 21:04:55 [scrapy.core.scraper] DEBUG: Scraped from <200 https://ccsakura.fandom.com/wiki/The_Silent>\r\n",
      "{'card_type': 'Clow Card'}\r\n",
      "2023-03-23 21:04:59 [scrapy.core.engine] DEBUG: Crawled (200) <GET https://ccsakura.fandom.com/wiki/The_Shot> (referer: https://ccsakura.fandom.com/wiki/Clow_Cards)\r\n",
      "2023-03-23 21:04:59 [scrapy.core.scraper] DEBUG: Scraped from <200 https://ccsakura.fandom.com/wiki/The_Shot>\r\n",
      "{'card_type': 'Clow Card'}\r\n",
      "2023-03-23 21:05:03 [scrapy.core.engine] DEBUG: Crawled (200) <GET https://ccsakura.fandom.com/wiki/The_Shield> (referer: https://ccsakura.fandom.com/wiki/Clow_Cards)\r\n",
      "2023-03-23 21:05:03 [scrapy.core.scraper] DEBUG: Scraped from <200 https://ccsakura.fandom.com/wiki/The_Shield>\r\n",
      "{'card_type': 'Clow Card'}\r\n",
      "2023-03-23 21:05:07 [scrapy.core.engine] DEBUG: Crawled (200) <GET https://ccsakura.fandom.com/wiki/The_Shadow> (referer: https://ccsakura.fandom.com/wiki/Clow_Cards)\r\n",
      "2023-03-23 21:05:08 [scrapy.core.scraper] DEBUG: Scraped from <200 https://ccsakura.fandom.com/wiki/The_Shadow>\r\n",
      "{'card_type': 'Clow Card'}\r\n",
      "2023-03-23 21:05:10 [scrapy.core.engine] DEBUG: Crawled (200) <GET https://ccsakura.fandom.com/wiki/The_Sand> (referer: https://ccsakura.fandom.com/wiki/Clow_Cards)\r\n",
      "2023-03-23 21:05:11 [scrapy.core.scraper] DEBUG: Scraped from <200 https://ccsakura.fandom.com/wiki/The_Sand>\r\n",
      "{'card_type': 'Clow Card'}\r\n",
      "2023-03-23 21:05:15 [scrapy.core.engine] DEBUG: Crawled (200) <GET https://ccsakura.fandom.com/wiki/The_Return> (referer: https://ccsakura.fandom.com/wiki/Clow_Cards)\r\n",
      "2023-03-23 21:05:15 [scrapy.core.scraper] DEBUG: Scraped from <200 https://ccsakura.fandom.com/wiki/The_Return>\r\n",
      "{'card_type': 'Clow Card'}\r\n",
      "2023-03-23 21:05:18 [scrapy.core.engine] DEBUG: Crawled (200) <GET https://ccsakura.fandom.com/wiki/The_Rain> (referer: https://ccsakura.fandom.com/wiki/Clow_Cards)\r\n",
      "2023-03-23 21:05:18 [scrapy.core.scraper] DEBUG: Scraped from <200 https://ccsakura.fandom.com/wiki/The_Rain>\r\n",
      "{'card_type': 'Clow Card'}\r\n",
      "2023-03-23 21:05:23 [scrapy.core.engine] DEBUG: Crawled (200) <GET https://ccsakura.fandom.com/wiki/The_Power> (referer: https://ccsakura.fandom.com/wiki/Clow_Cards)\r\n",
      "2023-03-23 21:05:23 [scrapy.core.scraper] DEBUG: Scraped from <200 https://ccsakura.fandom.com/wiki/The_Power>\r\n",
      "{'card_type': 'Clow Card'}\r\n",
      "2023-03-23 21:05:27 [scrapy.core.engine] DEBUG: Crawled (200) <GET https://ccsakura.fandom.com/wiki/The_Nothing> (referer: https://ccsakura.fandom.com/wiki/Clow_Cards)\r\n",
      "2023-03-23 21:05:27 [scrapy.core.scraper] DEBUG: Scraped from <200 https://ccsakura.fandom.com/wiki/The_Nothing>\r\n",
      "{'card_type': 'Clow Card'}\r\n",
      "2023-03-23 21:05:31 [scrapy.core.engine] DEBUG: Crawled (200) <GET https://ccsakura.fandom.com/wiki/The_Move> (referer: https://ccsakura.fandom.com/wiki/Clow_Cards)\r\n",
      "2023-03-23 21:05:31 [scrapy.core.scraper] DEBUG: Scraped from <200 https://ccsakura.fandom.com/wiki/The_Move>\r\n",
      "{'card_type': 'Clow Card'}\r\n",
      "2023-03-23 21:05:35 [scrapy.core.engine] DEBUG: Crawled (200) <GET https://ccsakura.fandom.com/wiki/The_Mist> (referer: https://ccsakura.fandom.com/wiki/Clow_Cards)\r\n",
      "2023-03-23 21:05:35 [scrapy.core.scraper] DEBUG: Scraped from <200 https://ccsakura.fandom.com/wiki/The_Mist>\r\n",
      "{'card_type': 'Clow Card'}\r\n",
      "2023-03-23 21:05:37 [scrapy.core.engine] DEBUG: Crawled (200) <GET https://ccsakura.fandom.com/wiki/The_Mirror> (referer: https://ccsakura.fandom.com/wiki/Clow_Cards)\r\n",
      "2023-03-23 21:05:37 [scrapy.core.scraper] DEBUG: Scraped from <200 https://ccsakura.fandom.com/wiki/The_Mirror>\r\n",
      "{'card_type': 'Clow Card'}\r\n",
      "2023-03-23 21:05:41 [scrapy.core.engine] DEBUG: Crawled (200) <GET https://ccsakura.fandom.com/wiki/The_Maze> (referer: https://ccsakura.fandom.com/wiki/Clow_Cards)\r\n",
      "2023-03-23 21:05:41 [scrapy.core.scraper] DEBUG: Scraped from <200 https://ccsakura.fandom.com/wiki/The_Maze>\r\n",
      "{'card_type': 'Clow Card'}\r\n",
      "2023-03-23 21:05:42 [scrapy.extensions.logstats] INFO: Crawled 31 pages (at 16 pages/min), scraped 29 items (at 16 items/min)\r\n",
      "2023-03-23 21:05:44 [scrapy.core.engine] DEBUG: Crawled (200) <GET https://ccsakura.fandom.com/wiki/The_Loop> (referer: https://ccsakura.fandom.com/wiki/Clow_Cards)\r\n",
      "2023-03-23 21:05:44 [scrapy.core.scraper] DEBUG: Scraped from <200 https://ccsakura.fandom.com/wiki/The_Loop>\r\n",
      "{'card_type': 'Clow Card'}\r\n",
      "2023-03-23 21:05:48 [scrapy.core.engine] DEBUG: Crawled (200) <GET https://ccsakura.fandom.com/wiki/The_Lock> (referer: https://ccsakura.fandom.com/wiki/Clow_Cards)\r\n",
      "2023-03-23 21:05:48 [scrapy.core.scraper] DEBUG: Scraped from <200 https://ccsakura.fandom.com/wiki/The_Lock>\r\n",
      "{'card_type': 'Clow Card'}\r\n",
      "2023-03-23 21:05:53 [scrapy.core.engine] DEBUG: Crawled (200) <GET https://ccsakura.fandom.com/wiki/The_Little> (referer: https://ccsakura.fandom.com/wiki/Clow_Cards)\r\n",
      "2023-03-23 21:05:53 [scrapy.core.scraper] DEBUG: Scraped from <200 https://ccsakura.fandom.com/wiki/The_Little>\r\n",
      "{'card_type': 'Clow Card'}\r\n",
      "2023-03-23 21:05:57 [scrapy.core.engine] DEBUG: Crawled (200) <GET https://ccsakura.fandom.com/wiki/The_Light> (referer: https://ccsakura.fandom.com/wiki/Clow_Cards)\r\n",
      "2023-03-23 21:05:57 [scrapy.core.scraper] DEBUG: Scraped from <200 https://ccsakura.fandom.com/wiki/The_Light>\r\n",
      "{'card_type': 'Clow Card'}\r\n",
      "2023-03-23 21:06:00 [scrapy.core.engine] DEBUG: Crawled (200) <GET https://ccsakura.fandom.com/wiki/The_Libra> (referer: https://ccsakura.fandom.com/wiki/Clow_Cards)\r\n",
      "2023-03-23 21:06:01 [scrapy.core.scraper] DEBUG: Scraped from <200 https://ccsakura.fandom.com/wiki/The_Libra>\r\n",
      "{'card_type': 'Clow Card'}\r\n",
      "2023-03-23 21:06:03 [scrapy.core.engine] DEBUG: Crawled (200) <GET https://ccsakura.fandom.com/wiki/The_Jump> (referer: https://ccsakura.fandom.com/wiki/Clow_Cards)\r\n",
      "2023-03-23 21:06:03 [scrapy.core.scraper] DEBUG: Scraped from <200 https://ccsakura.fandom.com/wiki/The_Jump>\r\n",
      "{'card_type': 'Clow Card'}\r\n",
      "2023-03-23 21:06:08 [scrapy.core.engine] DEBUG: Crawled (200) <GET https://ccsakura.fandom.com/wiki/The_Illusion> (referer: https://ccsakura.fandom.com/wiki/Clow_Cards)\r\n",
      "2023-03-23 21:06:08 [scrapy.core.scraper] DEBUG: Scraped from <200 https://ccsakura.fandom.com/wiki/The_Illusion>\r\n",
      "{'card_type': 'Clow Card'}\r\n",
      "2023-03-23 21:06:11 [scrapy.core.engine] DEBUG: Crawled (200) <GET https://ccsakura.fandom.com/wiki/The_Glow> (referer: https://ccsakura.fandom.com/wiki/Clow_Cards)\r\n",
      "2023-03-23 21:06:11 [scrapy.core.scraper] DEBUG: Scraped from <200 https://ccsakura.fandom.com/wiki/The_Glow>\r\n",
      "{'card_type': 'Clow Card'}\r\n",
      "2023-03-23 21:06:15 [scrapy.core.engine] DEBUG: Crawled (200) <GET https://ccsakura.fandom.com/wiki/The_Freeze> (referer: https://ccsakura.fandom.com/wiki/Clow_Cards)\r\n",
      "2023-03-23 21:06:16 [scrapy.core.scraper] DEBUG: Scraped from <200 https://ccsakura.fandom.com/wiki/The_Freeze>\r\n",
      "{'card_type': 'Clow Card'}\r\n",
      "2023-03-23 21:06:18 [scrapy.core.engine] DEBUG: Crawled (200) <GET https://ccsakura.fandom.com/wiki/The_Fly> (referer: https://ccsakura.fandom.com/wiki/Clow_Cards)\r\n",
      "2023-03-23 21:06:18 [scrapy.core.scraper] DEBUG: Scraped from <200 https://ccsakura.fandom.com/wiki/The_Fly>\r\n",
      "{'card_type': 'Clow Card'}\r\n",
      "2023-03-23 21:06:20 [scrapy.core.engine] DEBUG: Crawled (200) <GET https://ccsakura.fandom.com/wiki/The_Flower> (referer: https://ccsakura.fandom.com/wiki/Clow_Cards)\r\n",
      "2023-03-23 21:06:21 [scrapy.core.scraper] DEBUG: Scraped from <200 https://ccsakura.fandom.com/wiki/The_Flower>\r\n",
      "{'card_type': 'Clow Card'}\r\n",
      "2023-03-23 21:06:24 [scrapy.core.engine] DEBUG: Crawled (200) <GET https://ccsakura.fandom.com/wiki/The_Float> (referer: https://ccsakura.fandom.com/wiki/Clow_Cards)\r\n",
      "2023-03-23 21:06:24 [scrapy.core.scraper] DEBUG: Scraped from <200 https://ccsakura.fandom.com/wiki/The_Float>\r\n",
      "{'card_type': 'Clow Card'}\r\n",
      "2023-03-23 21:06:28 [scrapy.core.engine] DEBUG: Crawled (200) <GET https://ccsakura.fandom.com/wiki/The_Firey> (referer: https://ccsakura.fandom.com/wiki/Clow_Cards)\r\n",
      "2023-03-23 21:06:28 [scrapy.core.scraper] DEBUG: Scraped from <200 https://ccsakura.fandom.com/wiki/The_Firey>\r\n",
      "{'card_type': 'Clow Card'}\r\n",
      "2023-03-23 21:06:31 [scrapy.core.engine] DEBUG: Crawled (200) <GET https://ccsakura.fandom.com/wiki/The_Fight> (referer: https://ccsakura.fandom.com/wiki/Clow_Cards)\r\n",
      "2023-03-23 21:06:31 [scrapy.core.scraper] DEBUG: Scraped from <200 https://ccsakura.fandom.com/wiki/The_Fight>\r\n",
      "{'card_type': 'Clow Card'}\r\n",
      "2023-03-23 21:06:35 [scrapy.core.engine] DEBUG: Crawled (200) <GET https://ccsakura.fandom.com/wiki/The_Erase> (referer: https://ccsakura.fandom.com/wiki/Clow_Cards)\r\n",
      "^C\r\n",
      "2023-03-23 21:06:35 [scrapy.crawler] INFO: Received SIGINT, shutting down gracefully. Send again to force \r\n",
      "2023-03-23 21:06:35 [scrapy.core.engine] INFO: Closing spider (shutdown)\r\n",
      "/Users/diegopessoa/projects/ifpb/banco-de-dados/04-apis-scrapers-crawlers/sakura/crawlers/loaders.py:13: ScrapyDeprecationWarning: scrapy.loader.processors.TakeFirst is deprecated, instantiate itemloaders.processors.TakeFirst instead.\r\n",
      "  default_output_processor = TakeFirst()\r\n",
      "2023-03-23 21:06:37 [scrapy.utils.log] INFO: Scrapy 2.6.2 started (bot: crawlers)\r\n",
      "2023-03-23 21:06:37 [scrapy.utils.log] INFO: Versions: lxml 4.9.1.0, libxml2 2.9.14, cssselect 1.1.0, parsel 1.6.0, w3lib 1.21.0, Twisted 22.2.0, Python 3.9.13 (main, Aug 25 2022, 18:29:29) - [Clang 12.0.0 ], pyOpenSSL 22.0.0 (OpenSSL 1.1.1q  5 Jul 2022), cryptography 37.0.1, Platform macOS-10.16-x86_64-i386-64bit\r\n",
      "2023-03-23 21:06:37 [scrapy.crawler] INFO: Overridden settings:\r\n",
      "{'AUTOTHROTTLE_ENABLED': True,\r\n",
      " 'BOT_NAME': 'crawlers',\r\n",
      " 'CONCURRENT_REQUESTS': 32,\r\n",
      " 'CONCURRENT_REQUESTS_PER_DOMAIN': 16,\r\n",
      " 'CONCURRENT_REQUESTS_PER_IP': 16,\r\n",
      " 'COOKIES_ENABLED': False,\r\n",
      " 'DOWNLOAD_DELAY': 3,\r\n",
      " 'NEWSPIDER_MODULE': 'crawlers.spiders',\r\n",
      " 'ROBOTSTXT_OBEY': True,\r\n",
      " 'SPIDER_MODULES': ['crawlers.spiders'],\r\n",
      " 'USER_AGENT': 'The CardCaptor sakura'}\r\n",
      "2023-03-23 21:06:37 [scrapy.utils.log] DEBUG: Using reactor: twisted.internet.selectreactor.SelectReactor\r\n",
      "2023-03-23 21:06:37 [scrapy.extensions.telnet] INFO: Telnet Password: ac3fe8fafb23f598\r\n",
      "2023-03-23 21:06:37 [scrapy.middleware] INFO: Enabled extensions:\r\n",
      "['scrapy.extensions.corestats.CoreStats',\r\n",
      " 'scrapy.extensions.telnet.TelnetConsole',\r\n",
      " 'scrapy.extensions.memusage.MemoryUsage',\r\n",
      " 'scrapy.extensions.feedexport.FeedExporter',\r\n",
      " 'scrapy.extensions.logstats.LogStats',\r\n",
      " 'scrapy.extensions.throttle.AutoThrottle']\r\n",
      "2023-03-23 21:06:37 [scrapy.middleware] INFO: Enabled downloader middlewares:\r\n",
      "['scrapy.downloadermiddlewares.robotstxt.RobotsTxtMiddleware',\r\n",
      " 'scrapy.downloadermiddlewares.httpauth.HttpAuthMiddleware',\r\n",
      " 'scrapy.downloadermiddlewares.downloadtimeout.DownloadTimeoutMiddleware',\r\n",
      " 'scrapy.downloadermiddlewares.defaultheaders.DefaultHeadersMiddleware',\r\n",
      " 'scrapy.downloadermiddlewares.useragent.UserAgentMiddleware',\r\n",
      " 'scrapy.downloadermiddlewares.retry.RetryMiddleware',\r\n",
      " 'scrapy.downloadermiddlewares.redirect.MetaRefreshMiddleware',\r\n",
      " 'scrapy.downloadermiddlewares.httpcompression.HttpCompressionMiddleware',\r\n",
      " 'scrapy.downloadermiddlewares.redirect.RedirectMiddleware',\r\n",
      " 'scrapy.downloadermiddlewares.httpproxy.HttpProxyMiddleware',\r\n",
      " 'scrapy.downloadermiddlewares.stats.DownloaderStats']\r\n",
      "2023-03-23 21:06:37 [scrapy.middleware] INFO: Enabled spider middlewares:\r\n",
      "['scrapy.spidermiddlewares.httperror.HttpErrorMiddleware',\r\n",
      " 'scrapy.spidermiddlewares.offsite.OffsiteMiddleware',\r\n",
      " 'scrapy.spidermiddlewares.referer.RefererMiddleware',\r\n",
      " 'scrapy.spidermiddlewares.urllength.UrlLengthMiddleware',\r\n",
      " 'scrapy.spidermiddlewares.depth.DepthMiddleware']\r\n",
      "2023-03-23 21:06:37 [scrapy.middleware] INFO: Enabled item pipelines:\r\n",
      "[]\r\n",
      "2023-03-23 21:06:37 [scrapy.core.engine] INFO: Spider opened\r\n",
      "2023-03-23 21:06:37 [scrapy.extensions.logstats] INFO: Crawled 0 pages (at 0 pages/min), scraped 0 items (at 0 items/min)\r\n",
      "2023-03-23 21:06:37 [scrapy.extensions.telnet] INFO: Telnet console listening on 127.0.0.1:6023\r\n",
      "^C\r\n",
      "2023-03-23 21:06:39 [scrapy.crawler] INFO: Received SIGINT, shutting down gracefully. Send again to force \r\n",
      "2023-03-23 21:06:39 [scrapy.core.engine] INFO: Closing spider (shutdown)\r\n"
     ]
    }
   ],
   "source": [
    "!scrapy crawl clow-cards -o clow-cards.json\n",
    "!scrapy crawl clow-cards -o sakura-cards.json"
   ],
   "metadata": {
    "collapsed": false
   }
  },
  {
   "cell_type": "code",
   "execution_count": 16,
   "outputs": [
    {
     "data": {
      "text/plain": "            card  card_type  \\\n0      The Arrow  Clow Card   \n1      The Firey  Clow Card   \n2      The Fight  Clow Card   \n3      The Erase  Clow Card   \n4     The Earthy  Clow Card   \n5      The Dream  Clow Card   \n6       The Dash  Clow Card   \n7       The Dark  Clow Card   \n8     The Create  Clow Card   \n9      The Cloud  Clow Card   \n10    The Change  Clow Card   \n11   The Bubbles  Clow Card   \n12       The Big  Clow Card   \n13    The Watery  Clow Card   \n14     The Voice  Clow Card   \n15      The Twin  Clow Card   \n16      The Time  Clow Card   \n17   The Thunder  Clow Card   \n18   The Through  Clow Card   \n19     The Sword  Clow Card   \n20     The Sweet  Clow Card   \n21     The Storm  Clow Card   \n22      The Song  Clow Card   \n23      The Snow  Clow Card   \n24     The Sleep  Clow Card   \n25    The Silent  Clow Card   \n26      The Shot  Clow Card   \n27    The Shield  Clow Card   \n28    The Shadow  Clow Card   \n29      The Sand  Clow Card   \n30    The Return  Clow Card   \n31      The Rain  Clow Card   \n32      The Wood  Clow Card   \n33     The Windy  Clow Card   \n34      The Wave  Clow Card   \n35     The Power  Clow Card   \n36   The Nothing  Clow Card   \n37      The Move  Clow Card   \n38      The Mist  Clow Card   \n39    The Mirror  Clow Card   \n40      The Maze  Clow Card   \n41      The Loop  Clow Card   \n42      The Lock  Clow Card   \n43    The Little  Clow Card   \n44     The Light  Clow Card   \n45     The Libra  Clow Card   \n46      The Jump  Clow Card   \n47  The Illusion  Clow Card   \n48      The Glow  Clow Card   \n49    The Freeze  Clow Card   \n50       The Fly  Clow Card   \n51    The Flower  Clow Card   \n52     The Float  Clow Card   \n\n                                                                 img_url  \\\n0      https://vignette.wikia.nocookie.net/ccs/images/8/80/ClowArrow.jpg   \n1      https://vignette.wikia.nocookie.net/ccs/images/1/12/ClowFirey.jpg   \n2      https://vignette.wikia.nocookie.net/ccs/images/1/16/ClowFight.jpg   \n3      https://vignette.wikia.nocookie.net/ccs/images/5/57/ClowErase.jpg   \n4     https://vignette.wikia.nocookie.net/ccs/images/7/72/ClowEarthy.jpg   \n5      https://vignette.wikia.nocookie.net/ccs/images/8/88/ClowDream.jpg   \n6       https://vignette.wikia.nocookie.net/ccs/images/2/2c/ClowDash.jpg   \n7       https://vignette.wikia.nocookie.net/ccs/images/5/56/ClowDark.jpg   \n8     https://vignette.wikia.nocookie.net/ccs/images/9/9c/ClowCreate.jpg   \n9      https://vignette.wikia.nocookie.net/ccs/images/a/a2/ClowCloud.jpg   \n10    https://vignette.wikia.nocookie.net/ccs/images/d/de/ClowChange.jpg   \n11   https://vignette.wikia.nocookie.net/ccs/images/8/8d/ClowBubbles.jpg   \n12       https://vignette.wikia.nocookie.net/ccs/images/8/8b/ClowBig.jpg   \n13    https://vignette.wikia.nocookie.net/ccs/images/5/55/ClowWatery.jpg   \n14     https://vignette.wikia.nocookie.net/ccs/images/d/d7/ClowVoice.jpg   \n15      https://vignette.wikia.nocookie.net/ccs/images/5/5a/ClowTwin.jpg   \n16      https://vignette.wikia.nocookie.net/ccs/images/6/62/ClowTime.jpg   \n17   https://vignette.wikia.nocookie.net/ccs/images/d/da/ClowThunder.jpg   \n18   https://vignette.wikia.nocookie.net/ccs/images/d/d0/ClowThrough.jpg   \n19     https://vignette.wikia.nocookie.net/ccs/images/2/2c/ClowSword.jpg   \n20     https://vignette.wikia.nocookie.net/ccs/images/e/e0/ClowSweet.jpg   \n21     https://vignette.wikia.nocookie.net/ccs/images/5/58/ClowStorm.jpg   \n22      https://vignette.wikia.nocookie.net/ccs/images/4/46/ClowSong.jpg   \n23      https://vignette.wikia.nocookie.net/ccs/images/2/2a/ClowSnow.jpg   \n24     https://vignette.wikia.nocookie.net/ccs/images/e/e8/ClowSleep.jpg   \n25    https://vignette.wikia.nocookie.net/ccs/images/b/b7/ClowSilent.jpg   \n26      https://vignette.wikia.nocookie.net/ccs/images/7/7c/ClowShot.jpg   \n27    https://vignette.wikia.nocookie.net/ccs/images/a/a7/ClowShield.jpg   \n28    https://vignette.wikia.nocookie.net/ccs/images/c/c8/ClowShadow.jpg   \n29      https://vignette.wikia.nocookie.net/ccs/images/1/1e/ClowSand.jpg   \n30    https://vignette.wikia.nocookie.net/ccs/images/2/22/ClowReturn.jpg   \n31      https://vignette.wikia.nocookie.net/ccs/images/b/b2/ClowRain.jpg   \n32      https://vignette.wikia.nocookie.net/ccs/images/e/e8/ClowWood.jpg   \n33     https://vignette.wikia.nocookie.net/ccs/images/a/ac/ClowWindy.jpg   \n34      https://vignette.wikia.nocookie.net/ccs/images/1/17/ClowWave.jpg   \n35     https://vignette.wikia.nocookie.net/ccs/images/c/c8/ClowPower.jpg   \n36   https://vignette.wikia.nocookie.net/ccs/images/2/22/ClowNothing.jpg   \n37      https://vignette.wikia.nocookie.net/ccs/images/0/00/ClowMove.jpg   \n38      https://vignette.wikia.nocookie.net/ccs/images/4/4f/ClowMist.jpg   \n39    https://vignette.wikia.nocookie.net/ccs/images/e/ec/ClowMirror.jpg   \n40      https://vignette.wikia.nocookie.net/ccs/images/e/e9/ClowMaze.jpg   \n41      https://vignette.wikia.nocookie.net/ccs/images/1/1c/ClowLoop.jpg   \n42      https://vignette.wikia.nocookie.net/ccs/images/d/d8/ClowLock.jpg   \n43    https://vignette.wikia.nocookie.net/ccs/images/c/cd/ClowLittle.jpg   \n44     https://vignette.wikia.nocookie.net/ccs/images/6/66/ClowLight.jpg   \n45     https://vignette.wikia.nocookie.net/ccs/images/7/75/ClowLibra.jpg   \n46      https://vignette.wikia.nocookie.net/ccs/images/f/ff/ClowJump.jpg   \n47  https://vignette.wikia.nocookie.net/ccs/images/2/2d/ClowIllusion.jpg   \n48      https://vignette.wikia.nocookie.net/ccs/images/b/b4/ClowGlow.jpg   \n49    https://vignette.wikia.nocookie.net/ccs/images/0/00/ClowFreeze.jpg   \n50       https://vignette.wikia.nocookie.net/ccs/images/3/3c/ClowFly.jpg   \n51    https://vignette.wikia.nocookie.net/ccs/images/d/da/ClowFlower.jpg   \n52     https://vignette.wikia.nocookie.net/ccs/images/2/26/ClowFloat.jpg   \n\n       magic_type  sign  \n0   Western Magic   Sun  \n1             NaN   Sun  \n2   Western Magic   Sun  \n3   Eastern Magic  Moon  \n4   Western Magic   Sun  \n5   Eastern Magic  Moon  \n6   Eastern Magic  Moon  \n7   Eastern Magic  Moon  \n8   Western Magic   Sun  \n9   Eastern Magic  Moon  \n10  Eastern Magic  Moon  \n11  Eastern Magic  Moon  \n12  Western Magic   Sun  \n13  Eastern Magic  Moon  \n14  Eastern Magic  Moon  \n15  Western Magic   Sun  \n16  Eastern Magic  Moon  \n17  Western Magic   Sun  \n18  Western Magic   Sun  \n19  Western Magic   Sun  \n20  Western Magic   Sun  \n21  Eastern Magic  Moon  \n22  Eastern Magic  Moon  \n23  Eastern Magic  Moon  \n24  Eastern Magic  Moon  \n25  Eastern Magic  Moon  \n26  Western Magic   Sun  \n27  Western Magic   Sun  \n28  Western Magic   Sun  \n29  Western Magic   Sun  \n30  Western Magic   Sun  \n31  Eastern Magic  Moon  \n32  Eastern Magic  Moon  \n33  Eastern Magic  Moon  \n34  Eastern Magic  Moon  \n35  Western Magic   Sun  \n36        Unknown  Star  \n37  Eastern Magic  Moon  \n38  Eastern Magic  Moon  \n39  Western Magic   Sun  \n40  Western magic   Sun  \n41  Western Magic   Sun  \n42  Western Magic   Sun  \n43  Western Magic   Sun  \n44  Western Magic   Sun  \n45  Western Magic   Sun  \n46  Eastern Magic  Moon  \n47  Eastern Magic  Moon  \n48  Western Magic   Sun  \n49  Eastern Magic  Moon  \n50  Eastern Magic  Moon  \n51  Western Magic   Sun  \n52  Eastern Magic  Moon  ",
      "text/html": "<div>\n<style scoped>\n    .dataframe tbody tr th:only-of-type {\n        vertical-align: middle;\n    }\n\n    .dataframe tbody tr th {\n        vertical-align: top;\n    }\n\n    .dataframe thead th {\n        text-align: right;\n    }\n</style>\n<table border=\"1\" class=\"dataframe\">\n  <thead>\n    <tr style=\"text-align: right;\">\n      <th></th>\n      <th>card</th>\n      <th>card_type</th>\n      <th>img_url</th>\n      <th>magic_type</th>\n      <th>sign</th>\n    </tr>\n  </thead>\n  <tbody>\n    <tr>\n      <th>0</th>\n      <td>The Arrow</td>\n      <td>Clow Card</td>\n      <td>https://vignette.wikia.nocookie.net/ccs/images/8/80/ClowArrow.jpg</td>\n      <td>Western Magic</td>\n      <td>Sun</td>\n    </tr>\n    <tr>\n      <th>1</th>\n      <td>The Firey</td>\n      <td>Clow Card</td>\n      <td>https://vignette.wikia.nocookie.net/ccs/images/1/12/ClowFirey.jpg</td>\n      <td>NaN</td>\n      <td>Sun</td>\n    </tr>\n    <tr>\n      <th>2</th>\n      <td>The Fight</td>\n      <td>Clow Card</td>\n      <td>https://vignette.wikia.nocookie.net/ccs/images/1/16/ClowFight.jpg</td>\n      <td>Western Magic</td>\n      <td>Sun</td>\n    </tr>\n    <tr>\n      <th>3</th>\n      <td>The Erase</td>\n      <td>Clow Card</td>\n      <td>https://vignette.wikia.nocookie.net/ccs/images/5/57/ClowErase.jpg</td>\n      <td>Eastern Magic</td>\n      <td>Moon</td>\n    </tr>\n    <tr>\n      <th>4</th>\n      <td>The Earthy</td>\n      <td>Clow Card</td>\n      <td>https://vignette.wikia.nocookie.net/ccs/images/7/72/ClowEarthy.jpg</td>\n      <td>Western Magic</td>\n      <td>Sun</td>\n    </tr>\n    <tr>\n      <th>5</th>\n      <td>The Dream</td>\n      <td>Clow Card</td>\n      <td>https://vignette.wikia.nocookie.net/ccs/images/8/88/ClowDream.jpg</td>\n      <td>Eastern Magic</td>\n      <td>Moon</td>\n    </tr>\n    <tr>\n      <th>6</th>\n      <td>The Dash</td>\n      <td>Clow Card</td>\n      <td>https://vignette.wikia.nocookie.net/ccs/images/2/2c/ClowDash.jpg</td>\n      <td>Eastern Magic</td>\n      <td>Moon</td>\n    </tr>\n    <tr>\n      <th>7</th>\n      <td>The Dark</td>\n      <td>Clow Card</td>\n      <td>https://vignette.wikia.nocookie.net/ccs/images/5/56/ClowDark.jpg</td>\n      <td>Eastern Magic</td>\n      <td>Moon</td>\n    </tr>\n    <tr>\n      <th>8</th>\n      <td>The Create</td>\n      <td>Clow Card</td>\n      <td>https://vignette.wikia.nocookie.net/ccs/images/9/9c/ClowCreate.jpg</td>\n      <td>Western Magic</td>\n      <td>Sun</td>\n    </tr>\n    <tr>\n      <th>9</th>\n      <td>The Cloud</td>\n      <td>Clow Card</td>\n      <td>https://vignette.wikia.nocookie.net/ccs/images/a/a2/ClowCloud.jpg</td>\n      <td>Eastern Magic</td>\n      <td>Moon</td>\n    </tr>\n    <tr>\n      <th>10</th>\n      <td>The Change</td>\n      <td>Clow Card</td>\n      <td>https://vignette.wikia.nocookie.net/ccs/images/d/de/ClowChange.jpg</td>\n      <td>Eastern Magic</td>\n      <td>Moon</td>\n    </tr>\n    <tr>\n      <th>11</th>\n      <td>The Bubbles</td>\n      <td>Clow Card</td>\n      <td>https://vignette.wikia.nocookie.net/ccs/images/8/8d/ClowBubbles.jpg</td>\n      <td>Eastern Magic</td>\n      <td>Moon</td>\n    </tr>\n    <tr>\n      <th>12</th>\n      <td>The Big</td>\n      <td>Clow Card</td>\n      <td>https://vignette.wikia.nocookie.net/ccs/images/8/8b/ClowBig.jpg</td>\n      <td>Western Magic</td>\n      <td>Sun</td>\n    </tr>\n    <tr>\n      <th>13</th>\n      <td>The Watery</td>\n      <td>Clow Card</td>\n      <td>https://vignette.wikia.nocookie.net/ccs/images/5/55/ClowWatery.jpg</td>\n      <td>Eastern Magic</td>\n      <td>Moon</td>\n    </tr>\n    <tr>\n      <th>14</th>\n      <td>The Voice</td>\n      <td>Clow Card</td>\n      <td>https://vignette.wikia.nocookie.net/ccs/images/d/d7/ClowVoice.jpg</td>\n      <td>Eastern Magic</td>\n      <td>Moon</td>\n    </tr>\n    <tr>\n      <th>15</th>\n      <td>The Twin</td>\n      <td>Clow Card</td>\n      <td>https://vignette.wikia.nocookie.net/ccs/images/5/5a/ClowTwin.jpg</td>\n      <td>Western Magic</td>\n      <td>Sun</td>\n    </tr>\n    <tr>\n      <th>16</th>\n      <td>The Time</td>\n      <td>Clow Card</td>\n      <td>https://vignette.wikia.nocookie.net/ccs/images/6/62/ClowTime.jpg</td>\n      <td>Eastern Magic</td>\n      <td>Moon</td>\n    </tr>\n    <tr>\n      <th>17</th>\n      <td>The Thunder</td>\n      <td>Clow Card</td>\n      <td>https://vignette.wikia.nocookie.net/ccs/images/d/da/ClowThunder.jpg</td>\n      <td>Western Magic</td>\n      <td>Sun</td>\n    </tr>\n    <tr>\n      <th>18</th>\n      <td>The Through</td>\n      <td>Clow Card</td>\n      <td>https://vignette.wikia.nocookie.net/ccs/images/d/d0/ClowThrough.jpg</td>\n      <td>Western Magic</td>\n      <td>Sun</td>\n    </tr>\n    <tr>\n      <th>19</th>\n      <td>The Sword</td>\n      <td>Clow Card</td>\n      <td>https://vignette.wikia.nocookie.net/ccs/images/2/2c/ClowSword.jpg</td>\n      <td>Western Magic</td>\n      <td>Sun</td>\n    </tr>\n    <tr>\n      <th>20</th>\n      <td>The Sweet</td>\n      <td>Clow Card</td>\n      <td>https://vignette.wikia.nocookie.net/ccs/images/e/e0/ClowSweet.jpg</td>\n      <td>Western Magic</td>\n      <td>Sun</td>\n    </tr>\n    <tr>\n      <th>21</th>\n      <td>The Storm</td>\n      <td>Clow Card</td>\n      <td>https://vignette.wikia.nocookie.net/ccs/images/5/58/ClowStorm.jpg</td>\n      <td>Eastern Magic</td>\n      <td>Moon</td>\n    </tr>\n    <tr>\n      <th>22</th>\n      <td>The Song</td>\n      <td>Clow Card</td>\n      <td>https://vignette.wikia.nocookie.net/ccs/images/4/46/ClowSong.jpg</td>\n      <td>Eastern Magic</td>\n      <td>Moon</td>\n    </tr>\n    <tr>\n      <th>23</th>\n      <td>The Snow</td>\n      <td>Clow Card</td>\n      <td>https://vignette.wikia.nocookie.net/ccs/images/2/2a/ClowSnow.jpg</td>\n      <td>Eastern Magic</td>\n      <td>Moon</td>\n    </tr>\n    <tr>\n      <th>24</th>\n      <td>The Sleep</td>\n      <td>Clow Card</td>\n      <td>https://vignette.wikia.nocookie.net/ccs/images/e/e8/ClowSleep.jpg</td>\n      <td>Eastern Magic</td>\n      <td>Moon</td>\n    </tr>\n    <tr>\n      <th>25</th>\n      <td>The Silent</td>\n      <td>Clow Card</td>\n      <td>https://vignette.wikia.nocookie.net/ccs/images/b/b7/ClowSilent.jpg</td>\n      <td>Eastern Magic</td>\n      <td>Moon</td>\n    </tr>\n    <tr>\n      <th>26</th>\n      <td>The Shot</td>\n      <td>Clow Card</td>\n      <td>https://vignette.wikia.nocookie.net/ccs/images/7/7c/ClowShot.jpg</td>\n      <td>Western Magic</td>\n      <td>Sun</td>\n    </tr>\n    <tr>\n      <th>27</th>\n      <td>The Shield</td>\n      <td>Clow Card</td>\n      <td>https://vignette.wikia.nocookie.net/ccs/images/a/a7/ClowShield.jpg</td>\n      <td>Western Magic</td>\n      <td>Sun</td>\n    </tr>\n    <tr>\n      <th>28</th>\n      <td>The Shadow</td>\n      <td>Clow Card</td>\n      <td>https://vignette.wikia.nocookie.net/ccs/images/c/c8/ClowShadow.jpg</td>\n      <td>Western Magic</td>\n      <td>Sun</td>\n    </tr>\n    <tr>\n      <th>29</th>\n      <td>The Sand</td>\n      <td>Clow Card</td>\n      <td>https://vignette.wikia.nocookie.net/ccs/images/1/1e/ClowSand.jpg</td>\n      <td>Western Magic</td>\n      <td>Sun</td>\n    </tr>\n    <tr>\n      <th>30</th>\n      <td>The Return</td>\n      <td>Clow Card</td>\n      <td>https://vignette.wikia.nocookie.net/ccs/images/2/22/ClowReturn.jpg</td>\n      <td>Western Magic</td>\n      <td>Sun</td>\n    </tr>\n    <tr>\n      <th>31</th>\n      <td>The Rain</td>\n      <td>Clow Card</td>\n      <td>https://vignette.wikia.nocookie.net/ccs/images/b/b2/ClowRain.jpg</td>\n      <td>Eastern Magic</td>\n      <td>Moon</td>\n    </tr>\n    <tr>\n      <th>32</th>\n      <td>The Wood</td>\n      <td>Clow Card</td>\n      <td>https://vignette.wikia.nocookie.net/ccs/images/e/e8/ClowWood.jpg</td>\n      <td>Eastern Magic</td>\n      <td>Moon</td>\n    </tr>\n    <tr>\n      <th>33</th>\n      <td>The Windy</td>\n      <td>Clow Card</td>\n      <td>https://vignette.wikia.nocookie.net/ccs/images/a/ac/ClowWindy.jpg</td>\n      <td>Eastern Magic</td>\n      <td>Moon</td>\n    </tr>\n    <tr>\n      <th>34</th>\n      <td>The Wave</td>\n      <td>Clow Card</td>\n      <td>https://vignette.wikia.nocookie.net/ccs/images/1/17/ClowWave.jpg</td>\n      <td>Eastern Magic</td>\n      <td>Moon</td>\n    </tr>\n    <tr>\n      <th>35</th>\n      <td>The Power</td>\n      <td>Clow Card</td>\n      <td>https://vignette.wikia.nocookie.net/ccs/images/c/c8/ClowPower.jpg</td>\n      <td>Western Magic</td>\n      <td>Sun</td>\n    </tr>\n    <tr>\n      <th>36</th>\n      <td>The Nothing</td>\n      <td>Clow Card</td>\n      <td>https://vignette.wikia.nocookie.net/ccs/images/2/22/ClowNothing.jpg</td>\n      <td>Unknown</td>\n      <td>Star</td>\n    </tr>\n    <tr>\n      <th>37</th>\n      <td>The Move</td>\n      <td>Clow Card</td>\n      <td>https://vignette.wikia.nocookie.net/ccs/images/0/00/ClowMove.jpg</td>\n      <td>Eastern Magic</td>\n      <td>Moon</td>\n    </tr>\n    <tr>\n      <th>38</th>\n      <td>The Mist</td>\n      <td>Clow Card</td>\n      <td>https://vignette.wikia.nocookie.net/ccs/images/4/4f/ClowMist.jpg</td>\n      <td>Eastern Magic</td>\n      <td>Moon</td>\n    </tr>\n    <tr>\n      <th>39</th>\n      <td>The Mirror</td>\n      <td>Clow Card</td>\n      <td>https://vignette.wikia.nocookie.net/ccs/images/e/ec/ClowMirror.jpg</td>\n      <td>Western Magic</td>\n      <td>Sun</td>\n    </tr>\n    <tr>\n      <th>40</th>\n      <td>The Maze</td>\n      <td>Clow Card</td>\n      <td>https://vignette.wikia.nocookie.net/ccs/images/e/e9/ClowMaze.jpg</td>\n      <td>Western magic</td>\n      <td>Sun</td>\n    </tr>\n    <tr>\n      <th>41</th>\n      <td>The Loop</td>\n      <td>Clow Card</td>\n      <td>https://vignette.wikia.nocookie.net/ccs/images/1/1c/ClowLoop.jpg</td>\n      <td>Western Magic</td>\n      <td>Sun</td>\n    </tr>\n    <tr>\n      <th>42</th>\n      <td>The Lock</td>\n      <td>Clow Card</td>\n      <td>https://vignette.wikia.nocookie.net/ccs/images/d/d8/ClowLock.jpg</td>\n      <td>Western Magic</td>\n      <td>Sun</td>\n    </tr>\n    <tr>\n      <th>43</th>\n      <td>The Little</td>\n      <td>Clow Card</td>\n      <td>https://vignette.wikia.nocookie.net/ccs/images/c/cd/ClowLittle.jpg</td>\n      <td>Western Magic</td>\n      <td>Sun</td>\n    </tr>\n    <tr>\n      <th>44</th>\n      <td>The Light</td>\n      <td>Clow Card</td>\n      <td>https://vignette.wikia.nocookie.net/ccs/images/6/66/ClowLight.jpg</td>\n      <td>Western Magic</td>\n      <td>Sun</td>\n    </tr>\n    <tr>\n      <th>45</th>\n      <td>The Libra</td>\n      <td>Clow Card</td>\n      <td>https://vignette.wikia.nocookie.net/ccs/images/7/75/ClowLibra.jpg</td>\n      <td>Western Magic</td>\n      <td>Sun</td>\n    </tr>\n    <tr>\n      <th>46</th>\n      <td>The Jump</td>\n      <td>Clow Card</td>\n      <td>https://vignette.wikia.nocookie.net/ccs/images/f/ff/ClowJump.jpg</td>\n      <td>Eastern Magic</td>\n      <td>Moon</td>\n    </tr>\n    <tr>\n      <th>47</th>\n      <td>The Illusion</td>\n      <td>Clow Card</td>\n      <td>https://vignette.wikia.nocookie.net/ccs/images/2/2d/ClowIllusion.jpg</td>\n      <td>Eastern Magic</td>\n      <td>Moon</td>\n    </tr>\n    <tr>\n      <th>48</th>\n      <td>The Glow</td>\n      <td>Clow Card</td>\n      <td>https://vignette.wikia.nocookie.net/ccs/images/b/b4/ClowGlow.jpg</td>\n      <td>Western Magic</td>\n      <td>Sun</td>\n    </tr>\n    <tr>\n      <th>49</th>\n      <td>The Freeze</td>\n      <td>Clow Card</td>\n      <td>https://vignette.wikia.nocookie.net/ccs/images/0/00/ClowFreeze.jpg</td>\n      <td>Eastern Magic</td>\n      <td>Moon</td>\n    </tr>\n    <tr>\n      <th>50</th>\n      <td>The Fly</td>\n      <td>Clow Card</td>\n      <td>https://vignette.wikia.nocookie.net/ccs/images/3/3c/ClowFly.jpg</td>\n      <td>Eastern Magic</td>\n      <td>Moon</td>\n    </tr>\n    <tr>\n      <th>51</th>\n      <td>The Flower</td>\n      <td>Clow Card</td>\n      <td>https://vignette.wikia.nocookie.net/ccs/images/d/da/ClowFlower.jpg</td>\n      <td>Western Magic</td>\n      <td>Sun</td>\n    </tr>\n    <tr>\n      <th>52</th>\n      <td>The Float</td>\n      <td>Clow Card</td>\n      <td>https://vignette.wikia.nocookie.net/ccs/images/2/26/ClowFloat.jpg</td>\n      <td>Eastern Magic</td>\n      <td>Moon</td>\n    </tr>\n  </tbody>\n</table>\n</div>"
     },
     "execution_count": 16,
     "metadata": {},
     "output_type": "execute_result"
    }
   ],
   "source": [
    "import pandas as pd\n",
    "\n",
    "clow_cards = pd.read_csv(\"data/clow-cards.csv\")\n",
    "clow_cards"
   ],
   "metadata": {
    "collapsed": false
   }
  },
  {
   "cell_type": "code",
   "execution_count": 102,
   "outputs": [
    {
     "data": {
      "text/plain": "                 card    card_type  \\\n0           The Arrow  Sakura Card   \n1            The Wood  Sakura Card   \n2           The Windy  Sakura Card   \n3            The Wave  Sakura Card   \n4          The Watery  Sakura Card   \n5           The Voice  Sakura Card   \n6            The Twin  Sakura Card   \n7            The Time  Sakura Card   \n8         The Thunder  Sakura Card   \n9         The Through  Sakura Card   \n10          The Sword  Sakura Card   \n11          The Sweet  Sakura Card   \n12          The Storm  Sakura Card   \n13           The Song  Sakura Card   \n14           The Snow  Sakura Card   \n15          The Sleep  Sakura Card   \n16         The Silent  Sakura Card   \n17           The Shot  Sakura Card   \n18         The Shield  Sakura Card   \n19         The Shadow  Sakura Card   \n20           The Sand  Sakura Card   \n21         The Return  Sakura Card   \n22           The Rain  Sakura Card   \n23          The Power  Sakura Card   \n24        The Nothing  Sakura Card   \n25  The Nameless Card  Sakura Card   \n26           The Move  Sakura Card   \n27           The Mist  Sakura Card   \n28         The Mirror  Sakura Card   \n29           The Maze  Sakura Card   \n30           The Loop  Sakura Card   \n31           The Lock  Sakura Card   \n32         The Little  Sakura Card   \n33          The Light  Sakura Card   \n34          The Libra  Sakura Card   \n35           The Jump  Sakura Card   \n36       The Illusion  Sakura Card   \n37           The Hope  Sakura Card   \n38           The Glow  Sakura Card   \n39         The Freeze  Sakura Card   \n40            The Fly  Sakura Card   \n41         The Flower  Sakura Card   \n42          The Float  Sakura Card   \n43          The Firey  Sakura Card   \n44          The Fight  Sakura Card   \n45          The Erase  Sakura Card   \n46         The Earthy  Sakura Card   \n47          The Dream  Sakura Card   \n48           The Dash  Sakura Card   \n49           The Dark  Sakura Card   \n50         The Create  Sakura Card   \n51          The Cloud  Sakura Card   \n52         The Change  Sakura Card   \n53        The Bubbles  Sakura Card   \n54            The Big  Sakura Card   \n\n                                              img_url     magic_type  sign  \n0   https://vignette.wikia.nocookie.net/ccs/images...  Western Magic   Sun  \n1   https://vignette.wikia.nocookie.net/ccs/images...  Eastern Magic  Moon  \n2   https://vignette.wikia.nocookie.net/ccs/images...  Eastern Magic  Moon  \n3   https://vignette.wikia.nocookie.net/ccs/images...  Eastern Magic  Moon  \n4   https://vignette.wikia.nocookie.net/ccs/images...  Eastern Magic  Moon  \n5   https://vignette.wikia.nocookie.net/ccs/images...  Eastern Magic  Moon  \n6   https://vignette.wikia.nocookie.net/ccs/images...  Western Magic   Sun  \n7   https://vignette.wikia.nocookie.net/ccs/images...  Eastern Magic  Moon  \n8   https://vignette.wikia.nocookie.net/ccs/images...  Western Magic   Sun  \n9   https://vignette.wikia.nocookie.net/ccs/images...  Western Magic   Sun  \n10  https://vignette.wikia.nocookie.net/ccs/images...  Western Magic   Sun  \n11  https://vignette.wikia.nocookie.net/ccs/images...  Western Magic   Sun  \n12  https://vignette.wikia.nocookie.net/ccs/images...  Eastern Magic  Moon  \n13  https://vignette.wikia.nocookie.net/ccs/images...  Eastern Magic  Moon  \n14  https://vignette.wikia.nocookie.net/ccs/images...  Eastern Magic  Moon  \n15  https://vignette.wikia.nocookie.net/ccs/images...  Eastern Magic  Moon  \n16  https://vignette.wikia.nocookie.net/ccs/images...  Eastern Magic  Moon  \n17  https://vignette.wikia.nocookie.net/ccs/images...  Western Magic   Sun  \n18  https://vignette.wikia.nocookie.net/ccs/images...  Western Magic   Sun  \n19  https://vignette.wikia.nocookie.net/ccs/images...  Western Magic   Sun  \n20  https://vignette.wikia.nocookie.net/ccs/images...  Western Magic   Sun  \n21  https://vignette.wikia.nocookie.net/ccs/images...  Western Magic   Sun  \n22  https://vignette.wikia.nocookie.net/ccs/images...  Eastern Magic  Moon  \n23  https://vignette.wikia.nocookie.net/ccs/images...  Western Magic   Sun  \n24  https://vignette.wikia.nocookie.net/ccs/images...        Unknown  Star  \n25                                                NaN            NaN   NaN  \n26  https://vignette.wikia.nocookie.net/ccs/images...  Eastern Magic  Moon  \n27  https://vignette.wikia.nocookie.net/ccs/images...  Eastern Magic  Moon  \n28  https://vignette.wikia.nocookie.net/ccs/images...  Western Magic   Sun  \n29  https://vignette.wikia.nocookie.net/ccs/images...  Western magic   Sun  \n30  https://vignette.wikia.nocookie.net/ccs/images...  Western Magic   Sun  \n31  https://vignette.wikia.nocookie.net/ccs/images...  Western Magic   Sun  \n32  https://vignette.wikia.nocookie.net/ccs/images...  Western Magic   Sun  \n33  https://vignette.wikia.nocookie.net/ccs/images...  Western Magic   Sun  \n34  https://vignette.wikia.nocookie.net/ccs/images...  Western Magic   Sun  \n35  https://vignette.wikia.nocookie.net/ccs/images...  Eastern Magic  Moon  \n36  https://vignette.wikia.nocookie.net/ccs/images...  Eastern Magic  Moon  \n37                                                NaN            NaN   NaN  \n38  https://vignette.wikia.nocookie.net/ccs/images...  Western Magic   Sun  \n39  https://vignette.wikia.nocookie.net/ccs/images...  Eastern Magic  Moon  \n40  https://vignette.wikia.nocookie.net/ccs/images...  Eastern Magic  Moon  \n41  https://vignette.wikia.nocookie.net/ccs/images...  Western Magic   Sun  \n42  https://vignette.wikia.nocookie.net/ccs/images...  Eastern Magic  Moon  \n43  https://vignette.wikia.nocookie.net/ccs/images...            NaN   Sun  \n44  https://vignette.wikia.nocookie.net/ccs/images...  Western Magic   Sun  \n45  https://vignette.wikia.nocookie.net/ccs/images...  Eastern Magic  Moon  \n46  https://vignette.wikia.nocookie.net/ccs/images...  Western Magic   Sun  \n47  https://vignette.wikia.nocookie.net/ccs/images...  Eastern Magic  Moon  \n48  https://vignette.wikia.nocookie.net/ccs/images...  Eastern Magic  Moon  \n49  https://vignette.wikia.nocookie.net/ccs/images...  Eastern Magic  Moon  \n50  https://vignette.wikia.nocookie.net/ccs/images...  Western Magic   Sun  \n51  https://vignette.wikia.nocookie.net/ccs/images...  Eastern Magic  Moon  \n52  https://vignette.wikia.nocookie.net/ccs/images...  Eastern Magic  Moon  \n53  https://vignette.wikia.nocookie.net/ccs/images...  Eastern Magic  Moon  \n54  https://vignette.wikia.nocookie.net/ccs/images...  Western Magic   Sun  ",
      "text/html": "<div>\n<style scoped>\n    .dataframe tbody tr th:only-of-type {\n        vertical-align: middle;\n    }\n\n    .dataframe tbody tr th {\n        vertical-align: top;\n    }\n\n    .dataframe thead th {\n        text-align: right;\n    }\n</style>\n<table border=\"1\" class=\"dataframe\">\n  <thead>\n    <tr style=\"text-align: right;\">\n      <th></th>\n      <th>card</th>\n      <th>card_type</th>\n      <th>img_url</th>\n      <th>magic_type</th>\n      <th>sign</th>\n    </tr>\n  </thead>\n  <tbody>\n    <tr>\n      <th>0</th>\n      <td>The Arrow</td>\n      <td>Sakura Card</td>\n      <td>https://vignette.wikia.nocookie.net/ccs/images...</td>\n      <td>Western Magic</td>\n      <td>Sun</td>\n    </tr>\n    <tr>\n      <th>1</th>\n      <td>The Wood</td>\n      <td>Sakura Card</td>\n      <td>https://vignette.wikia.nocookie.net/ccs/images...</td>\n      <td>Eastern Magic</td>\n      <td>Moon</td>\n    </tr>\n    <tr>\n      <th>2</th>\n      <td>The Windy</td>\n      <td>Sakura Card</td>\n      <td>https://vignette.wikia.nocookie.net/ccs/images...</td>\n      <td>Eastern Magic</td>\n      <td>Moon</td>\n    </tr>\n    <tr>\n      <th>3</th>\n      <td>The Wave</td>\n      <td>Sakura Card</td>\n      <td>https://vignette.wikia.nocookie.net/ccs/images...</td>\n      <td>Eastern Magic</td>\n      <td>Moon</td>\n    </tr>\n    <tr>\n      <th>4</th>\n      <td>The Watery</td>\n      <td>Sakura Card</td>\n      <td>https://vignette.wikia.nocookie.net/ccs/images...</td>\n      <td>Eastern Magic</td>\n      <td>Moon</td>\n    </tr>\n    <tr>\n      <th>5</th>\n      <td>The Voice</td>\n      <td>Sakura Card</td>\n      <td>https://vignette.wikia.nocookie.net/ccs/images...</td>\n      <td>Eastern Magic</td>\n      <td>Moon</td>\n    </tr>\n    <tr>\n      <th>6</th>\n      <td>The Twin</td>\n      <td>Sakura Card</td>\n      <td>https://vignette.wikia.nocookie.net/ccs/images...</td>\n      <td>Western Magic</td>\n      <td>Sun</td>\n    </tr>\n    <tr>\n      <th>7</th>\n      <td>The Time</td>\n      <td>Sakura Card</td>\n      <td>https://vignette.wikia.nocookie.net/ccs/images...</td>\n      <td>Eastern Magic</td>\n      <td>Moon</td>\n    </tr>\n    <tr>\n      <th>8</th>\n      <td>The Thunder</td>\n      <td>Sakura Card</td>\n      <td>https://vignette.wikia.nocookie.net/ccs/images...</td>\n      <td>Western Magic</td>\n      <td>Sun</td>\n    </tr>\n    <tr>\n      <th>9</th>\n      <td>The Through</td>\n      <td>Sakura Card</td>\n      <td>https://vignette.wikia.nocookie.net/ccs/images...</td>\n      <td>Western Magic</td>\n      <td>Sun</td>\n    </tr>\n    <tr>\n      <th>10</th>\n      <td>The Sword</td>\n      <td>Sakura Card</td>\n      <td>https://vignette.wikia.nocookie.net/ccs/images...</td>\n      <td>Western Magic</td>\n      <td>Sun</td>\n    </tr>\n    <tr>\n      <th>11</th>\n      <td>The Sweet</td>\n      <td>Sakura Card</td>\n      <td>https://vignette.wikia.nocookie.net/ccs/images...</td>\n      <td>Western Magic</td>\n      <td>Sun</td>\n    </tr>\n    <tr>\n      <th>12</th>\n      <td>The Storm</td>\n      <td>Sakura Card</td>\n      <td>https://vignette.wikia.nocookie.net/ccs/images...</td>\n      <td>Eastern Magic</td>\n      <td>Moon</td>\n    </tr>\n    <tr>\n      <th>13</th>\n      <td>The Song</td>\n      <td>Sakura Card</td>\n      <td>https://vignette.wikia.nocookie.net/ccs/images...</td>\n      <td>Eastern Magic</td>\n      <td>Moon</td>\n    </tr>\n    <tr>\n      <th>14</th>\n      <td>The Snow</td>\n      <td>Sakura Card</td>\n      <td>https://vignette.wikia.nocookie.net/ccs/images...</td>\n      <td>Eastern Magic</td>\n      <td>Moon</td>\n    </tr>\n    <tr>\n      <th>15</th>\n      <td>The Sleep</td>\n      <td>Sakura Card</td>\n      <td>https://vignette.wikia.nocookie.net/ccs/images...</td>\n      <td>Eastern Magic</td>\n      <td>Moon</td>\n    </tr>\n    <tr>\n      <th>16</th>\n      <td>The Silent</td>\n      <td>Sakura Card</td>\n      <td>https://vignette.wikia.nocookie.net/ccs/images...</td>\n      <td>Eastern Magic</td>\n      <td>Moon</td>\n    </tr>\n    <tr>\n      <th>17</th>\n      <td>The Shot</td>\n      <td>Sakura Card</td>\n      <td>https://vignette.wikia.nocookie.net/ccs/images...</td>\n      <td>Western Magic</td>\n      <td>Sun</td>\n    </tr>\n    <tr>\n      <th>18</th>\n      <td>The Shield</td>\n      <td>Sakura Card</td>\n      <td>https://vignette.wikia.nocookie.net/ccs/images...</td>\n      <td>Western Magic</td>\n      <td>Sun</td>\n    </tr>\n    <tr>\n      <th>19</th>\n      <td>The Shadow</td>\n      <td>Sakura Card</td>\n      <td>https://vignette.wikia.nocookie.net/ccs/images...</td>\n      <td>Western Magic</td>\n      <td>Sun</td>\n    </tr>\n    <tr>\n      <th>20</th>\n      <td>The Sand</td>\n      <td>Sakura Card</td>\n      <td>https://vignette.wikia.nocookie.net/ccs/images...</td>\n      <td>Western Magic</td>\n      <td>Sun</td>\n    </tr>\n    <tr>\n      <th>21</th>\n      <td>The Return</td>\n      <td>Sakura Card</td>\n      <td>https://vignette.wikia.nocookie.net/ccs/images...</td>\n      <td>Western Magic</td>\n      <td>Sun</td>\n    </tr>\n    <tr>\n      <th>22</th>\n      <td>The Rain</td>\n      <td>Sakura Card</td>\n      <td>https://vignette.wikia.nocookie.net/ccs/images...</td>\n      <td>Eastern Magic</td>\n      <td>Moon</td>\n    </tr>\n    <tr>\n      <th>23</th>\n      <td>The Power</td>\n      <td>Sakura Card</td>\n      <td>https://vignette.wikia.nocookie.net/ccs/images...</td>\n      <td>Western Magic</td>\n      <td>Sun</td>\n    </tr>\n    <tr>\n      <th>24</th>\n      <td>The Nothing</td>\n      <td>Sakura Card</td>\n      <td>https://vignette.wikia.nocookie.net/ccs/images...</td>\n      <td>Unknown</td>\n      <td>Star</td>\n    </tr>\n    <tr>\n      <th>25</th>\n      <td>The Nameless Card</td>\n      <td>Sakura Card</td>\n      <td>NaN</td>\n      <td>NaN</td>\n      <td>NaN</td>\n    </tr>\n    <tr>\n      <th>26</th>\n      <td>The Move</td>\n      <td>Sakura Card</td>\n      <td>https://vignette.wikia.nocookie.net/ccs/images...</td>\n      <td>Eastern Magic</td>\n      <td>Moon</td>\n    </tr>\n    <tr>\n      <th>27</th>\n      <td>The Mist</td>\n      <td>Sakura Card</td>\n      <td>https://vignette.wikia.nocookie.net/ccs/images...</td>\n      <td>Eastern Magic</td>\n      <td>Moon</td>\n    </tr>\n    <tr>\n      <th>28</th>\n      <td>The Mirror</td>\n      <td>Sakura Card</td>\n      <td>https://vignette.wikia.nocookie.net/ccs/images...</td>\n      <td>Western Magic</td>\n      <td>Sun</td>\n    </tr>\n    <tr>\n      <th>29</th>\n      <td>The Maze</td>\n      <td>Sakura Card</td>\n      <td>https://vignette.wikia.nocookie.net/ccs/images...</td>\n      <td>Western magic</td>\n      <td>Sun</td>\n    </tr>\n    <tr>\n      <th>30</th>\n      <td>The Loop</td>\n      <td>Sakura Card</td>\n      <td>https://vignette.wikia.nocookie.net/ccs/images...</td>\n      <td>Western Magic</td>\n      <td>Sun</td>\n    </tr>\n    <tr>\n      <th>31</th>\n      <td>The Lock</td>\n      <td>Sakura Card</td>\n      <td>https://vignette.wikia.nocookie.net/ccs/images...</td>\n      <td>Western Magic</td>\n      <td>Sun</td>\n    </tr>\n    <tr>\n      <th>32</th>\n      <td>The Little</td>\n      <td>Sakura Card</td>\n      <td>https://vignette.wikia.nocookie.net/ccs/images...</td>\n      <td>Western Magic</td>\n      <td>Sun</td>\n    </tr>\n    <tr>\n      <th>33</th>\n      <td>The Light</td>\n      <td>Sakura Card</td>\n      <td>https://vignette.wikia.nocookie.net/ccs/images...</td>\n      <td>Western Magic</td>\n      <td>Sun</td>\n    </tr>\n    <tr>\n      <th>34</th>\n      <td>The Libra</td>\n      <td>Sakura Card</td>\n      <td>https://vignette.wikia.nocookie.net/ccs/images...</td>\n      <td>Western Magic</td>\n      <td>Sun</td>\n    </tr>\n    <tr>\n      <th>35</th>\n      <td>The Jump</td>\n      <td>Sakura Card</td>\n      <td>https://vignette.wikia.nocookie.net/ccs/images...</td>\n      <td>Eastern Magic</td>\n      <td>Moon</td>\n    </tr>\n    <tr>\n      <th>36</th>\n      <td>The Illusion</td>\n      <td>Sakura Card</td>\n      <td>https://vignette.wikia.nocookie.net/ccs/images...</td>\n      <td>Eastern Magic</td>\n      <td>Moon</td>\n    </tr>\n    <tr>\n      <th>37</th>\n      <td>The Hope</td>\n      <td>Sakura Card</td>\n      <td>NaN</td>\n      <td>NaN</td>\n      <td>NaN</td>\n    </tr>\n    <tr>\n      <th>38</th>\n      <td>The Glow</td>\n      <td>Sakura Card</td>\n      <td>https://vignette.wikia.nocookie.net/ccs/images...</td>\n      <td>Western Magic</td>\n      <td>Sun</td>\n    </tr>\n    <tr>\n      <th>39</th>\n      <td>The Freeze</td>\n      <td>Sakura Card</td>\n      <td>https://vignette.wikia.nocookie.net/ccs/images...</td>\n      <td>Eastern Magic</td>\n      <td>Moon</td>\n    </tr>\n    <tr>\n      <th>40</th>\n      <td>The Fly</td>\n      <td>Sakura Card</td>\n      <td>https://vignette.wikia.nocookie.net/ccs/images...</td>\n      <td>Eastern Magic</td>\n      <td>Moon</td>\n    </tr>\n    <tr>\n      <th>41</th>\n      <td>The Flower</td>\n      <td>Sakura Card</td>\n      <td>https://vignette.wikia.nocookie.net/ccs/images...</td>\n      <td>Western Magic</td>\n      <td>Sun</td>\n    </tr>\n    <tr>\n      <th>42</th>\n      <td>The Float</td>\n      <td>Sakura Card</td>\n      <td>https://vignette.wikia.nocookie.net/ccs/images...</td>\n      <td>Eastern Magic</td>\n      <td>Moon</td>\n    </tr>\n    <tr>\n      <th>43</th>\n      <td>The Firey</td>\n      <td>Sakura Card</td>\n      <td>https://vignette.wikia.nocookie.net/ccs/images...</td>\n      <td>NaN</td>\n      <td>Sun</td>\n    </tr>\n    <tr>\n      <th>44</th>\n      <td>The Fight</td>\n      <td>Sakura Card</td>\n      <td>https://vignette.wikia.nocookie.net/ccs/images...</td>\n      <td>Western Magic</td>\n      <td>Sun</td>\n    </tr>\n    <tr>\n      <th>45</th>\n      <td>The Erase</td>\n      <td>Sakura Card</td>\n      <td>https://vignette.wikia.nocookie.net/ccs/images...</td>\n      <td>Eastern Magic</td>\n      <td>Moon</td>\n    </tr>\n    <tr>\n      <th>46</th>\n      <td>The Earthy</td>\n      <td>Sakura Card</td>\n      <td>https://vignette.wikia.nocookie.net/ccs/images...</td>\n      <td>Western Magic</td>\n      <td>Sun</td>\n    </tr>\n    <tr>\n      <th>47</th>\n      <td>The Dream</td>\n      <td>Sakura Card</td>\n      <td>https://vignette.wikia.nocookie.net/ccs/images...</td>\n      <td>Eastern Magic</td>\n      <td>Moon</td>\n    </tr>\n    <tr>\n      <th>48</th>\n      <td>The Dash</td>\n      <td>Sakura Card</td>\n      <td>https://vignette.wikia.nocookie.net/ccs/images...</td>\n      <td>Eastern Magic</td>\n      <td>Moon</td>\n    </tr>\n    <tr>\n      <th>49</th>\n      <td>The Dark</td>\n      <td>Sakura Card</td>\n      <td>https://vignette.wikia.nocookie.net/ccs/images...</td>\n      <td>Eastern Magic</td>\n      <td>Moon</td>\n    </tr>\n    <tr>\n      <th>50</th>\n      <td>The Create</td>\n      <td>Sakura Card</td>\n      <td>https://vignette.wikia.nocookie.net/ccs/images...</td>\n      <td>Western Magic</td>\n      <td>Sun</td>\n    </tr>\n    <tr>\n      <th>51</th>\n      <td>The Cloud</td>\n      <td>Sakura Card</td>\n      <td>https://vignette.wikia.nocookie.net/ccs/images...</td>\n      <td>Eastern Magic</td>\n      <td>Moon</td>\n    </tr>\n    <tr>\n      <th>52</th>\n      <td>The Change</td>\n      <td>Sakura Card</td>\n      <td>https://vignette.wikia.nocookie.net/ccs/images...</td>\n      <td>Eastern Magic</td>\n      <td>Moon</td>\n    </tr>\n    <tr>\n      <th>53</th>\n      <td>The Bubbles</td>\n      <td>Sakura Card</td>\n      <td>https://vignette.wikia.nocookie.net/ccs/images...</td>\n      <td>Eastern Magic</td>\n      <td>Moon</td>\n    </tr>\n    <tr>\n      <th>54</th>\n      <td>The Big</td>\n      <td>Sakura Card</td>\n      <td>https://vignette.wikia.nocookie.net/ccs/images...</td>\n      <td>Western Magic</td>\n      <td>Sun</td>\n    </tr>\n  </tbody>\n</table>\n</div>"
     },
     "execution_count": 102,
     "metadata": {},
     "output_type": "execute_result"
    }
   ],
   "source": [
    "sakura_cards = pd.read_csv(\"data/sakura-cards.csv\")\n",
    "sakura_cards"
   ],
   "metadata": {
    "collapsed": false
   }
  }
 ],
 "metadata": {
  "kernelspec": {
   "display_name": "Python 3",
   "language": "python",
   "name": "python3"
  },
  "language_info": {
   "codemirror_mode": {
    "name": "ipython",
    "version": 2
   },
   "file_extension": ".py",
   "mimetype": "text/x-python",
   "name": "python",
   "nbconvert_exporter": "python",
   "pygments_lexer": "ipython2",
   "version": "2.7.6"
  }
 },
 "nbformat": 4,
 "nbformat_minor": 0
}
